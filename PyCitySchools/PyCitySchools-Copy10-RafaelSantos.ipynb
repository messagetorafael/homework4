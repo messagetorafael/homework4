{
 "cells": [
  {
   "cell_type": "markdown",
   "metadata": {},
   "source": [
    "# Student: Rafael Santos  #HomeWork 4 - PyCity\n",
    "\n",
    "#Data Analystics and Visualization Cohort 3"
   ]
  },
  {
   "cell_type": "markdown",
   "metadata": {},
   "source": [
    "# PyCity Schools - Overall Analysis\n",
    "---\n",
    "* 1) Schools that spend up to USD 615 per student had overall passing rates 14% to 21% higher than those schools spending more than USD 615 up to USD 675 per student.\n",
    "\n",
    "* 2) Small and medium schools have significantly higher passing rates (95% and 88% respectively) than larger schools (74%), suggesting that the number of students per school may negatively influence the quality of the student's performance.\n",
    "\n",
    "* 3) Charter schools have overall passing rate 11% higher than District schools, with the 67% passing math rate clearly determining District schools overall passing rate of 73%, just above average.\n",
    "\n",
    "* 4) All the top 10 performing schools are charter and have budget per studend smaller than the bottom 10 performing schools, which are district type. This confirms that budget is not a leading factor associated to higher performance of schools, and suggests that one of the opportunities with district schools is to review the way their budget is utilized, potentially by leveraging best practices from top performing charter schools.\n",
    "\n",
    "* 5) Based on this dataset analysis, gender and grade did not seem to influence performance, showing students had relatively similar passing scores and rates. \n",
    "\n",
    "---"
   ]
  },
  {
   "cell_type": "markdown",
   "metadata": {},
   "source": [
    "### BEGIN OF THE MAIN CODE ###"
   ]
  },
  {
   "cell_type": "code",
   "execution_count": 1,
   "metadata": {},
   "outputs": [
    {
     "data": {
      "text/html": [
       "<div>\n",
       "<style scoped>\n",
       "    .dataframe tbody tr th:only-of-type {\n",
       "        vertical-align: middle;\n",
       "    }\n",
       "\n",
       "    .dataframe tbody tr th {\n",
       "        vertical-align: top;\n",
       "    }\n",
       "\n",
       "    .dataframe thead th {\n",
       "        text-align: right;\n",
       "    }\n",
       "</style>\n",
       "<table border=\"1\" class=\"dataframe\">\n",
       "  <thead>\n",
       "    <tr style=\"text-align: right;\">\n",
       "      <th></th>\n",
       "      <th>Student ID</th>\n",
       "      <th>student_name</th>\n",
       "      <th>gender</th>\n",
       "      <th>grade</th>\n",
       "      <th>school_name</th>\n",
       "      <th>reading_score</th>\n",
       "      <th>math_score</th>\n",
       "      <th>School ID</th>\n",
       "      <th>type</th>\n",
       "      <th>size</th>\n",
       "      <th>budget</th>\n",
       "    </tr>\n",
       "  </thead>\n",
       "  <tbody>\n",
       "    <tr>\n",
       "      <th>0</th>\n",
       "      <td>0</td>\n",
       "      <td>Paul Bradley</td>\n",
       "      <td>M</td>\n",
       "      <td>9th</td>\n",
       "      <td>Huang High School</td>\n",
       "      <td>66</td>\n",
       "      <td>79</td>\n",
       "      <td>0</td>\n",
       "      <td>District</td>\n",
       "      <td>2917</td>\n",
       "      <td>1910635</td>\n",
       "    </tr>\n",
       "    <tr>\n",
       "      <th>1</th>\n",
       "      <td>1</td>\n",
       "      <td>Victor Smith</td>\n",
       "      <td>M</td>\n",
       "      <td>12th</td>\n",
       "      <td>Huang High School</td>\n",
       "      <td>94</td>\n",
       "      <td>61</td>\n",
       "      <td>0</td>\n",
       "      <td>District</td>\n",
       "      <td>2917</td>\n",
       "      <td>1910635</td>\n",
       "    </tr>\n",
       "    <tr>\n",
       "      <th>2</th>\n",
       "      <td>2</td>\n",
       "      <td>Kevin Rodriguez</td>\n",
       "      <td>M</td>\n",
       "      <td>12th</td>\n",
       "      <td>Huang High School</td>\n",
       "      <td>90</td>\n",
       "      <td>60</td>\n",
       "      <td>0</td>\n",
       "      <td>District</td>\n",
       "      <td>2917</td>\n",
       "      <td>1910635</td>\n",
       "    </tr>\n",
       "    <tr>\n",
       "      <th>3</th>\n",
       "      <td>3</td>\n",
       "      <td>Dr. Richard Scott</td>\n",
       "      <td>M</td>\n",
       "      <td>12th</td>\n",
       "      <td>Huang High School</td>\n",
       "      <td>67</td>\n",
       "      <td>58</td>\n",
       "      <td>0</td>\n",
       "      <td>District</td>\n",
       "      <td>2917</td>\n",
       "      <td>1910635</td>\n",
       "    </tr>\n",
       "    <tr>\n",
       "      <th>4</th>\n",
       "      <td>4</td>\n",
       "      <td>Bonnie Ray</td>\n",
       "      <td>F</td>\n",
       "      <td>9th</td>\n",
       "      <td>Huang High School</td>\n",
       "      <td>97</td>\n",
       "      <td>84</td>\n",
       "      <td>0</td>\n",
       "      <td>District</td>\n",
       "      <td>2917</td>\n",
       "      <td>1910635</td>\n",
       "    </tr>\n",
       "  </tbody>\n",
       "</table>\n",
       "</div>"
      ],
      "text/plain": [
       "   Student ID       student_name gender grade        school_name  \\\n",
       "0           0       Paul Bradley      M   9th  Huang High School   \n",
       "1           1       Victor Smith      M  12th  Huang High School   \n",
       "2           2    Kevin Rodriguez      M  12th  Huang High School   \n",
       "3           3  Dr. Richard Scott      M  12th  Huang High School   \n",
       "4           4         Bonnie Ray      F   9th  Huang High School   \n",
       "\n",
       "   reading_score  math_score  School ID      type  size   budget  \n",
       "0             66          79          0  District  2917  1910635  \n",
       "1             94          61          0  District  2917  1910635  \n",
       "2             90          60          0  District  2917  1910635  \n",
       "3             67          58          0  District  2917  1910635  \n",
       "4             97          84          0  District  2917  1910635  "
      ]
     },
     "execution_count": 1,
     "metadata": {},
     "output_type": "execute_result"
    }
   ],
   "source": [
    "# Dependencies and Setup\n",
    "import pandas as pd\n",
    "import numpy as np\n",
    "\n",
    "# File to Load (Remember to Change These)\n",
    "school_data_to_load = \"Resources/schools_complete.csv\"\n",
    "student_data_to_load = \"Resources/students_complete.csv\"\n",
    "\n",
    "# Read School and Student Data File and store into Pandas Data Frames\n",
    "school_data = pd.read_csv(school_data_to_load)\n",
    "student_data = pd.read_csv(student_data_to_load)\n",
    "\n",
    "# Combine the data into a single dataset\n",
    "school_data_complete = pd.merge(student_data, school_data, how=\"left\", on=[\"school_name\"])\n",
    "\n",
    "# Checking a sample of the data to understand its structure\n",
    "school_data_complete.head()"
   ]
  },
  {
   "cell_type": "markdown",
   "metadata": {},
   "source": [
    "### @@User defined functions"
   ]
  },
  {
   "cell_type": "code",
   "execution_count": 2,
   "metadata": {},
   "outputs": [],
   "source": [
    "#user-defined function to merge tables\n",
    "def merging(x,y,z):   \n",
    "    check = y.name\n",
    "    y = y.reset_index(level=['school_name'])        #convert index into column to allow merging\n",
    "    x = pd.merge(x,y,how=\"left\",on=['school_name']) #merge x and y on columns with name 'school_name'\n",
    "    x = x.rename(columns={check:z})                 #rename original merged column name with  z\n",
    "    x = x.rename(columns={0:z})                     #rename merged column with \"0\" name as z\n",
    "\n",
    "    return x\n",
    "\n",
    "\n",
    "#user-defined function to format frequent numeric data fields for cleaner presentation\n",
    "def formarter(x,y):\n",
    "    if y == 0:\n",
    "        x['Average Math Score'] = x['Average Math Score'].map(\"{:.2f}\".format)\n",
    "        x['Average Reading Score'] = x['Average Reading Score'].map(\"{:.2f}\".format)\n",
    "        x['% Passing Math'] = x['% Passing Math'].map(\"{:.2%}\".format)\n",
    "        x['% Passing Reading'] = x['% Passing Reading'].map(\"{:.2%}\".format)\n",
    "        x['% Overall Passing Rate'] = x['% Overall Passing Rate'].map(\"{:.2%}\".format)\n",
    "    else:\n",
    "        x['Budget'] = x['Budget'].map(\"${:,.2f}\".format)\n",
    "        x['Total Students'] = x['Total Students'].map(\"{:,.0f}\".format)\n",
    "\n",
    "    return x"
   ]
  },
  {
   "cell_type": "markdown",
   "metadata": {},
   "source": [
    "## 1) District Summary"
   ]
  },
  {
   "cell_type": "markdown",
   "metadata": {},
   "source": [
    "* Calculate the total number of schools"
   ]
  },
  {
   "cell_type": "code",
   "execution_count": 3,
   "metadata": {},
   "outputs": [
    {
     "data": {
      "text/plain": [
       "15"
      ]
     },
     "execution_count": 3,
     "metadata": {},
     "output_type": "execute_result"
    }
   ],
   "source": [
    "TotalSchools = school_data_complete[\"school_name\"].nunique()\n",
    "TotalSchools"
   ]
  },
  {
   "cell_type": "markdown",
   "metadata": {},
   "source": [
    "* Calculate the total number of students"
   ]
  },
  {
   "cell_type": "code",
   "execution_count": 4,
   "metadata": {},
   "outputs": [
    {
     "data": {
      "text/plain": [
       "39170"
      ]
     },
     "execution_count": 4,
     "metadata": {},
     "output_type": "execute_result"
    }
   ],
   "source": [
    "TotalStudents = school_data_complete[\"student_name\"].count()\n",
    "TotalStudents"
   ]
  },
  {
   "cell_type": "markdown",
   "metadata": {},
   "source": [
    "* Calculate the total budget"
   ]
  },
  {
   "cell_type": "code",
   "execution_count": 5,
   "metadata": {},
   "outputs": [
    {
     "data": {
      "text/plain": [
       "24649428"
      ]
     },
     "execution_count": 5,
     "metadata": {},
     "output_type": "execute_result"
    }
   ],
   "source": [
    "TotalBudget = school_data_complete.loc[school_data_complete['budget'] > 0,['school_name','budget']]\n",
    "\n",
    "#Remove duplicate budget data for each school\n",
    "TotalBudget.drop_duplicates(subset=\"school_name\", keep = 'first', inplace = True)\n",
    "\n",
    "#Sum total budget for the district\n",
    "TotalBudget = TotalBudget[\"budget\"].sum()  #24649428\n",
    "TotalBudget"
   ]
  },
  {
   "cell_type": "markdown",
   "metadata": {},
   "source": [
    "* Calculate the average math score "
   ]
  },
  {
   "cell_type": "code",
   "execution_count": 6,
   "metadata": {},
   "outputs": [
    {
     "data": {
      "text/plain": [
       "78.98537145774827"
      ]
     },
     "execution_count": 6,
     "metadata": {},
     "output_type": "execute_result"
    }
   ],
   "source": [
    "AvgMathScore = school_data_complete[\"math_score\"].mean() #78.98537145774827\n",
    "AvgMathScore"
   ]
  },
  {
   "cell_type": "markdown",
   "metadata": {},
   "source": [
    "* Calculate the average reading score"
   ]
  },
  {
   "cell_type": "code",
   "execution_count": 7,
   "metadata": {},
   "outputs": [
    {
     "data": {
      "text/plain": [
       "81.87784018381414"
      ]
     },
     "execution_count": 7,
     "metadata": {},
     "output_type": "execute_result"
    }
   ],
   "source": [
    "AvgReadingScore = school_data_complete[\"reading_score\"].mean() #81.87784018381414\n",
    "AvgReadingScore"
   ]
  },
  {
   "cell_type": "markdown",
   "metadata": {},
   "source": [
    "* Calculate the overall passing rate (overall average score), i.e. (avg. math score + avg. reading score)/2"
   ]
  },
  {
   "cell_type": "code",
   "execution_count": 8,
   "metadata": {},
   "outputs": [
    {
     "data": {
      "text/plain": [
       "80.43160582078121"
      ]
     },
     "execution_count": 8,
     "metadata": {},
     "output_type": "execute_result"
    }
   ],
   "source": [
    "OvrPassScore = (AvgMathScore + AvgReadingScore)/2\n",
    "OvrPassScore"
   ]
  },
  {
   "cell_type": "markdown",
   "metadata": {},
   "source": [
    "* Calculate the percentage of students with a passing math score (70 or greater)"
   ]
  },
  {
   "cell_type": "code",
   "execution_count": 9,
   "metadata": {},
   "outputs": [
    {
     "data": {
      "text/plain": [
       "0.749808526933878"
      ]
     },
     "execution_count": 9,
     "metadata": {},
     "output_type": "execute_result"
    }
   ],
   "source": [
    "#Calculate the percentage of students with a passing math score (70 or greater)\n",
    "AvgPercentageStudentMath70higher = school_data_complete.loc[school_data_complete['math_score'] >= 70,\\\n",
    "                                                        ['student_name', 'math_score']]\n",
    "\n",
    "AvgPercentageStudentMath70higher = (len(AvgPercentageStudentMath70higher)/TotalStudents)\n",
    "AvgPercentageStudentMath70higher"
   ]
  },
  {
   "cell_type": "markdown",
   "metadata": {},
   "source": [
    "* Calculate the percentage of students with a passing reading score (70 or greater)"
   ]
  },
  {
   "cell_type": "code",
   "execution_count": 10,
   "metadata": {},
   "outputs": [
    {
     "data": {
      "text/plain": [
       "0.8580546336482001"
      ]
     },
     "execution_count": 10,
     "metadata": {},
     "output_type": "execute_result"
    }
   ],
   "source": [
    "AvgPercentageStudentRead70higher = school_data_complete.loc[school_data_complete['reading_score'] >= 70,\\\n",
    "                                                        ['student_name','reading_score']]\n",
    "\n",
    "AvgPercentageStudentRead70higher = (len(AvgPercentageStudentRead70higher)/TotalStudents)\n",
    "AvgPercentageStudentRead70higher"
   ]
  },
  {
   "cell_type": "markdown",
   "metadata": {},
   "source": [
    "* (Added) calculate the % average passing rate for the district - consistent with other tables/analysis"
   ]
  },
  {
   "cell_type": "code",
   "execution_count": 11,
   "metadata": {},
   "outputs": [
    {
     "data": {
      "text/plain": [
       "0.8039315802910391"
      ]
     },
     "execution_count": 11,
     "metadata": {},
     "output_type": "execute_result"
    }
   ],
   "source": [
    "OvrPassRate = (AvgPercentageStudentMath70higher + AvgPercentageStudentRead70higher)/2\n",
    "OvrPassRate"
   ]
  },
  {
   "cell_type": "markdown",
   "metadata": {},
   "source": [
    "* Create a dataframe to hold the above results"
   ]
  },
  {
   "cell_type": "code",
   "execution_count": 12,
   "metadata": {},
   "outputs": [],
   "source": [
    "summary = pd.DataFrame([  {\"% Overall Passing Rate\":OvrPassRate,\n",
    "                           \"% Passing Math\":AvgPercentageStudentMath70higher,\n",
    "                           \"% Passing Reading\":AvgPercentageStudentRead70higher,\n",
    "                           \"Overall Passing Score\":OvrPassScore,\n",
    "                           \"Average Math Score\":AvgMathScore,\n",
    "                           \"Average Reading Score\":AvgReadingScore,\n",
    "                           \"Total Schools\":TotalSchools,\n",
    "                           \"Total Students\":TotalStudents,\n",
    "                           \"Budget\":TotalBudget\n",
    "                          } ])"
   ]
  },
  {
   "cell_type": "markdown",
   "metadata": {},
   "source": [
    "* Optional: give the displayed data cleaner formatting"
   ]
  },
  {
   "cell_type": "code",
   "execution_count": 13,
   "metadata": {},
   "outputs": [],
   "source": [
    "#Format numeric values\n",
    "formarter(summary,0)\n",
    "formarter(summary,1)\n",
    "summary['Total Schools'] = summary['Total Schools'].map(\"{:,.0f}\".format)\n",
    "summary['Overall Passing Score'] = summary['Overall Passing Score'].map(\"{:,.2f}\".format)\n",
    "\n",
    "#Rename index\n",
    "summary = summary.set_index([pd.Index([\"District-Level Summary:\"])])\n",
    "\n",
    "#Reorder columns\n",
    "summary = summary[[\"Total Students\",\"Total Schools\",\"Budget\",\"Average Reading Score\",\"Average Math Score\",\n",
    "                   \"Overall Passing Score\",\"% Passing Reading\",\"% Passing Math\",\"% Overall Passing Rate\",]]"
   ]
  },
  {
   "cell_type": "markdown",
   "metadata": {},
   "source": [
    "### @@District Summary - Results:"
   ]
  },
  {
   "cell_type": "code",
   "execution_count": 14,
   "metadata": {},
   "outputs": [
    {
     "data": {
      "text/html": [
       "<div>\n",
       "<style scoped>\n",
       "    .dataframe tbody tr th:only-of-type {\n",
       "        vertical-align: middle;\n",
       "    }\n",
       "\n",
       "    .dataframe tbody tr th {\n",
       "        vertical-align: top;\n",
       "    }\n",
       "\n",
       "    .dataframe thead th {\n",
       "        text-align: right;\n",
       "    }\n",
       "</style>\n",
       "<table border=\"1\" class=\"dataframe\">\n",
       "  <thead>\n",
       "    <tr style=\"text-align: right;\">\n",
       "      <th></th>\n",
       "      <th>Total Students</th>\n",
       "      <th>Total Schools</th>\n",
       "      <th>Budget</th>\n",
       "      <th>Average Reading Score</th>\n",
       "      <th>Average Math Score</th>\n",
       "      <th>Overall Passing Score</th>\n",
       "      <th>% Passing Reading</th>\n",
       "      <th>% Passing Math</th>\n",
       "      <th>% Overall Passing Rate</th>\n",
       "    </tr>\n",
       "  </thead>\n",
       "  <tbody>\n",
       "    <tr>\n",
       "      <th>District-Level Summary:</th>\n",
       "      <td>39,170</td>\n",
       "      <td>15</td>\n",
       "      <td>$24,649,428.00</td>\n",
       "      <td>81.88</td>\n",
       "      <td>78.99</td>\n",
       "      <td>80.43</td>\n",
       "      <td>85.81%</td>\n",
       "      <td>74.98%</td>\n",
       "      <td>80.39%</td>\n",
       "    </tr>\n",
       "  </tbody>\n",
       "</table>\n",
       "</div>"
      ],
      "text/plain": [
       "                        Total Students Total Schools          Budget  \\\n",
       "District-Level Summary:         39,170            15  $24,649,428.00   \n",
       "\n",
       "                        Average Reading Score Average Math Score  \\\n",
       "District-Level Summary:                 81.88              78.99   \n",
       "\n",
       "                        Overall Passing Score % Passing Reading  \\\n",
       "District-Level Summary:                 80.43            85.81%   \n",
       "\n",
       "                        % Passing Math % Overall Passing Rate  \n",
       "District-Level Summary:         74.98%                 80.39%  "
      ]
     },
     "execution_count": 14,
     "metadata": {},
     "output_type": "execute_result"
    }
   ],
   "source": [
    "summary"
   ]
  },
  {
   "cell_type": "markdown",
   "metadata": {},
   "source": [
    "## 2) School Summary"
   ]
  },
  {
   "cell_type": "markdown",
   "metadata": {},
   "source": [
    "* Create an overview table that summarizes key metrics about each school, including:\n",
    "  * School Name\n",
    "  * School Type\n",
    "  * Average Math Score\n",
    "  * Average Reading Score\n",
    "  * Total Students"
   ]
  },
  {
   "cell_type": "code",
   "execution_count": 15,
   "metadata": {},
   "outputs": [
    {
     "data": {
      "text/html": [
       "<div>\n",
       "<style scoped>\n",
       "    .dataframe tbody tr th:only-of-type {\n",
       "        vertical-align: middle;\n",
       "    }\n",
       "\n",
       "    .dataframe tbody tr th {\n",
       "        vertical-align: top;\n",
       "    }\n",
       "\n",
       "    .dataframe thead th {\n",
       "        text-align: right;\n",
       "    }\n",
       "</style>\n",
       "<table border=\"1\" class=\"dataframe\">\n",
       "  <thead>\n",
       "    <tr style=\"text-align: right;\">\n",
       "      <th></th>\n",
       "      <th></th>\n",
       "      <th>math_score</th>\n",
       "      <th>reading_score</th>\n",
       "      <th>student_name</th>\n",
       "    </tr>\n",
       "    <tr>\n",
       "      <th>school_name</th>\n",
       "      <th>type</th>\n",
       "      <th></th>\n",
       "      <th></th>\n",
       "      <th></th>\n",
       "    </tr>\n",
       "  </thead>\n",
       "  <tbody>\n",
       "    <tr>\n",
       "      <th>Bailey High School</th>\n",
       "      <th>District</th>\n",
       "      <td>77.048432</td>\n",
       "      <td>81.033963</td>\n",
       "      <td>4976</td>\n",
       "    </tr>\n",
       "    <tr>\n",
       "      <th>Cabrera High School</th>\n",
       "      <th>Charter</th>\n",
       "      <td>83.061895</td>\n",
       "      <td>83.975780</td>\n",
       "      <td>1858</td>\n",
       "    </tr>\n",
       "    <tr>\n",
       "      <th>Figueroa High School</th>\n",
       "      <th>District</th>\n",
       "      <td>76.711767</td>\n",
       "      <td>81.158020</td>\n",
       "      <td>2949</td>\n",
       "    </tr>\n",
       "    <tr>\n",
       "      <th>Ford High School</th>\n",
       "      <th>District</th>\n",
       "      <td>77.102592</td>\n",
       "      <td>80.746258</td>\n",
       "      <td>2739</td>\n",
       "    </tr>\n",
       "    <tr>\n",
       "      <th>Griffin High School</th>\n",
       "      <th>Charter</th>\n",
       "      <td>83.351499</td>\n",
       "      <td>83.816757</td>\n",
       "      <td>1468</td>\n",
       "    </tr>\n",
       "  </tbody>\n",
       "</table>\n",
       "</div>"
      ],
      "text/plain": [
       "                               math_score  reading_score  student_name\n",
       "school_name          type                                             \n",
       "Bailey High School   District   77.048432      81.033963          4976\n",
       "Cabrera High School  Charter    83.061895      83.975780          1858\n",
       "Figueroa High School District   76.711767      81.158020          2949\n",
       "Ford High School     District   77.102592      80.746258          2739\n",
       "Griffin High School  Charter    83.351499      83.816757          1468"
      ]
     },
     "metadata": {},
     "output_type": "display_data"
    },
    {
     "data": {
      "text/html": [
       "<div>\n",
       "<style scoped>\n",
       "    .dataframe tbody tr th:only-of-type {\n",
       "        vertical-align: middle;\n",
       "    }\n",
       "\n",
       "    .dataframe tbody tr th {\n",
       "        vertical-align: top;\n",
       "    }\n",
       "\n",
       "    .dataframe thead th {\n",
       "        text-align: right;\n",
       "    }\n",
       "</style>\n",
       "<table border=\"1\" class=\"dataframe\">\n",
       "  <thead>\n",
       "    <tr style=\"text-align: right;\">\n",
       "      <th></th>\n",
       "      <th>math_score</th>\n",
       "      <th>reading_score</th>\n",
       "      <th>student_name</th>\n",
       "    </tr>\n",
       "  </thead>\n",
       "  <tbody>\n",
       "    <tr>\n",
       "      <th>count</th>\n",
       "      <td>15.000000</td>\n",
       "      <td>15.000000</td>\n",
       "      <td>15.000000</td>\n",
       "    </tr>\n",
       "    <tr>\n",
       "      <th>mean</th>\n",
       "      <td>80.432530</td>\n",
       "      <td>82.529188</td>\n",
       "      <td>2611.333333</td>\n",
       "    </tr>\n",
       "    <tr>\n",
       "      <th>std</th>\n",
       "      <td>3.374548</td>\n",
       "      <td>1.519329</td>\n",
       "      <td>1420.915282</td>\n",
       "    </tr>\n",
       "    <tr>\n",
       "      <th>min</th>\n",
       "      <td>76.629414</td>\n",
       "      <td>80.744686</td>\n",
       "      <td>427.000000</td>\n",
       "    </tr>\n",
       "    <tr>\n",
       "      <th>25%</th>\n",
       "      <td>77.060448</td>\n",
       "      <td>81.000178</td>\n",
       "      <td>1698.000000</td>\n",
       "    </tr>\n",
       "    <tr>\n",
       "      <th>50%</th>\n",
       "      <td>83.061895</td>\n",
       "      <td>83.725724</td>\n",
       "      <td>2283.000000</td>\n",
       "    </tr>\n",
       "    <tr>\n",
       "      <th>75%</th>\n",
       "      <td>83.388902</td>\n",
       "      <td>83.901965</td>\n",
       "      <td>3474.000000</td>\n",
       "    </tr>\n",
       "    <tr>\n",
       "      <th>max</th>\n",
       "      <td>83.839917</td>\n",
       "      <td>84.044699</td>\n",
       "      <td>4976.000000</td>\n",
       "    </tr>\n",
       "  </tbody>\n",
       "</table>\n",
       "</div>"
      ],
      "text/plain": [
       "       math_score  reading_score  student_name\n",
       "count   15.000000      15.000000     15.000000\n",
       "mean    80.432530      82.529188   2611.333333\n",
       "std      3.374548       1.519329   1420.915282\n",
       "min     76.629414      80.744686    427.000000\n",
       "25%     77.060448      81.000178   1698.000000\n",
       "50%     83.061895      83.725724   2283.000000\n",
       "75%     83.388902      83.901965   3474.000000\n",
       "max     83.839917      84.044699   4976.000000"
      ]
     },
     "metadata": {},
     "output_type": "display_data"
    }
   ],
   "source": [
    "#found out researching that I could obtain many of the values at once with using pandas.pivot_table\n",
    "\n",
    "table = pd.pivot_table(school_data_complete,values =['student_name','math_score','reading_score'],\\\n",
    "                       index=['school_name','type'],\\\n",
    "                       aggfunc={\"student_name\": len, 'math_score':np.mean,'reading_score': np.mean})\n",
    "\n",
    "#checking how the table looks like. It comes with two index columns.\n",
    "display (table.head(), table.describe())"
   ]
  },
  {
   "cell_type": "markdown",
   "metadata": {},
   "source": [
    "@@@@@@@@@@@@@\n",
    "Side analysis/sample of exploration done - a.k.a \"not needed for the code to be executed\"\n"
   ]
  },
  {
   "cell_type": "code",
   "execution_count": 16,
   "metadata": {},
   "outputs": [
    {
     "data": {
      "text/plain": [
       "school_name\n",
       "Bailey High School       4976\n",
       "Cabrera High School      1858\n",
       "Figueroa High School     2949\n",
       "Ford High School         2739\n",
       "Griffin High School      1468\n",
       "Hernandez High School    4635\n",
       "Holden High School        427\n",
       "Huang High School        2917\n",
       "Johnson High School      4761\n",
       "Pena High School          962\n",
       "Rodriguez High School    3999\n",
       "Shelton High School      1761\n",
       "Thomas High School       1635\n",
       "Wilson High School       2283\n",
       "Wright High School       1800\n",
       "Name: student_name, dtype: int64"
      ]
     },
     "metadata": {},
     "output_type": "display_data"
    },
    {
     "data": {
      "text/plain": [
       "school_name\n",
       "Bailey High School       77.048432\n",
       "Cabrera High School      83.061895\n",
       "Figueroa High School     76.711767\n",
       "Ford High School         77.102592\n",
       "Griffin High School      83.351499\n",
       "Hernandez High School    77.289752\n",
       "Holden High School       83.803279\n",
       "Huang High School        76.629414\n",
       "Johnson High School      77.072464\n",
       "Pena High School         83.839917\n",
       "Rodriguez High School    76.842711\n",
       "Shelton High School      83.359455\n",
       "Thomas High School       83.418349\n",
       "Wilson High School       83.274201\n",
       "Wright High School       83.682222\n",
       "Name: math_score, dtype: float64"
      ]
     },
     "metadata": {},
     "output_type": "display_data"
    },
    {
     "data": {
      "text/plain": [
       "school_name\n",
       "Bailey High School       81.033963\n",
       "Cabrera High School      83.975780\n",
       "Figueroa High School     81.158020\n",
       "Ford High School         80.746258\n",
       "Griffin High School      83.816757\n",
       "Hernandez High School    80.934412\n",
       "Holden High School       83.814988\n",
       "Huang High School        81.182722\n",
       "Johnson High School      80.966394\n",
       "Pena High School         84.044699\n",
       "Rodriguez High School    80.744686\n",
       "Shelton High School      83.725724\n",
       "Thomas High School       83.848930\n",
       "Wilson High School       83.989488\n",
       "Wright High School       83.955000\n",
       "Name: reading_score, dtype: float64"
      ]
     },
     "metadata": {},
     "output_type": "display_data"
    }
   ],
   "source": [
    "#Double Checking/Isolating data with another method, confirming consistency with PivotTable numbers. \n",
    "\n",
    "##Total Students \n",
    "SchoolStudents = school_data_complete.groupby('school_name')['student_name'].count() \n",
    "\n",
    "##Average Math Score\n",
    "AverageMathScore = school_data_complete.groupby('school_name')['math_score'].mean() \n",
    "\n",
    "#Average Reading Score        \n",
    "AverageReadingScore = school_data_complete.groupby('school_name')['reading_score'].mean()\n",
    "\n",
    "#it is possible to confirm both methods (Pivot Table and GroupBy) worked.\n",
    "display(SchoolStudents, AverageMathScore, AverageReadingScore)"
   ]
  },
  {
   "cell_type": "markdown",
   "metadata": {},
   "source": [
    "@@@@@@@@@@@@@ Decided to keep the pivot table (reducing the number of merges) and calculate other fields using the same approach."
   ]
  },
  {
   "cell_type": "markdown",
   "metadata": {},
   "source": [
    "* Total School Budget"
   ]
  },
  {
   "cell_type": "code",
   "execution_count": 17,
   "metadata": {},
   "outputs": [
    {
     "data": {
      "text/plain": [
       "count    1.500000e+01\n",
       "mean     1.643295e+06\n",
       "std      9.347763e+05\n",
       "min      2.480870e+05\n",
       "25%      1.046265e+06\n",
       "50%      1.319574e+06\n",
       "75%      2.228999e+06\n",
       "max      3.124928e+06\n",
       "Name: budget, dtype: float64"
      ]
     },
     "execution_count": 17,
     "metadata": {},
     "output_type": "execute_result"
    }
   ],
   "source": [
    "SchoolBudget=school_data_complete.groupby('school_name')['budget'].mean()\n",
    "SchoolBudget.describe()"
   ]
  },
  {
   "cell_type": "markdown",
   "metadata": {},
   "source": [
    "* Per Student Budget"
   ]
  },
  {
   "cell_type": "code",
   "execution_count": 18,
   "metadata": {},
   "outputs": [
    {
     "data": {
      "text/plain": [
       "count     15.000000\n",
       "mean     620.066667\n",
       "std       28.544368\n",
       "min      578.000000\n",
       "25%      591.500000\n",
       "50%      628.000000\n",
       "75%      641.500000\n",
       "max      655.000000\n",
       "dtype: float64"
      ]
     },
     "execution_count": 18,
     "metadata": {},
     "output_type": "execute_result"
    }
   ],
   "source": [
    "PerStudentSchoolBudget = SchoolBudget/SchoolStudents\n",
    "PerStudentSchoolBudget.describe()"
   ]
  },
  {
   "cell_type": "markdown",
   "metadata": {},
   "source": [
    "  * % Passing Math"
   ]
  },
  {
   "cell_type": "code",
   "execution_count": 19,
   "metadata": {},
   "outputs": [
    {
     "data": {
      "text/plain": [
       "count    15.000000\n",
       "mean      0.809871\n",
       "std       0.139988\n",
       "min       0.656839\n",
       "25%       0.665233\n",
       "50%       0.925059\n",
       "75%       0.936297\n",
       "max       0.945946\n",
       "dtype: float64"
      ]
     },
     "execution_count": 19,
     "metadata": {},
     "output_type": "execute_result"
    }
   ],
   "source": [
    "AverageMathScore = school_data_complete.loc[school_data_complete['math_score']>=70,['school_name','math_score']]\n",
    "PassingMathStudendsPerSchool = AverageMathScore.groupby('school_name')['math_score'].count()/SchoolStudents\n",
    "PassingMathStudendsPerSchool.describe()"
   ]
  },
  {
   "cell_type": "markdown",
   "metadata": {},
   "source": [
    "  * % Passing Reading"
   ]
  },
  {
   "cell_type": "code",
   "execution_count": 20,
   "metadata": {},
   "outputs": [
    {
     "data": {
      "text/plain": [
       "count    15.000000\n",
       "mean      0.892190\n",
       "std       0.081807\n",
       "min       0.792990\n",
       "25%       0.810427\n",
       "50%       0.958546\n",
       "75%       0.965754\n",
       "max       0.973089\n",
       "dtype: float64"
      ]
     },
     "execution_count": 20,
     "metadata": {},
     "output_type": "execute_result"
    }
   ],
   "source": [
    "AverageReadingScore = school_data_complete.loc[school_data_complete['reading_score']>=70,['school_name','reading_score']]\n",
    "PassingReadingStudendsPerSchool = AverageReadingScore.groupby('school_name')['reading_score'].count()/SchoolStudents \n",
    "PassingReadingStudendsPerSchool.describe()"
   ]
  },
  {
   "cell_type": "markdown",
   "metadata": {},
   "source": [
    "* Overall Passing Rate (Average of the above two)"
   ]
  },
  {
   "cell_type": "code",
   "execution_count": 21,
   "metadata": {},
   "outputs": [
    {
     "data": {
      "text/plain": [
       "count    15.000000\n",
       "mean      0.851030\n",
       "std       0.110716\n",
       "min       0.732933\n",
       "25%       0.737221\n",
       "50%       0.943794\n",
       "75%       0.952347\n",
       "max       0.955867\n",
       "dtype: float64"
      ]
     },
     "execution_count": 21,
     "metadata": {},
     "output_type": "execute_result"
    }
   ],
   "source": [
    "OverallPassingRatePerSchool=(PassingMathStudendsPerSchool + PassingReadingStudendsPerSchool)/2\n",
    "OverallPassingRatePerSchool.describe()"
   ]
  },
  {
   "cell_type": "markdown",
   "metadata": {},
   "source": [
    "* Create an overview table that summarizes key metrics about each school:\n",
    "---\n",
    "* @@@ by looking at the description of the data and headers, and after running into several errors, I noticed:\n",
    "* * * 1) datasets had the same lenght \n",
    "* * * 2) some had names in the columns as I sliced the data, others did have name.\n",
    "* * * 3) indexes for the pivot table and other tables were different\n",
    "---\n",
    "* @@@ Identified opportunity for:\n",
    "* * * 4) making column header names consistent across all tables\n",
    "* * * 5) making index consistent across all tables\n",
    "* * * 6) leverage the use of functions for both merging and formating repetitive lines of code\n",
    "* * * 7) creating a full deep copy of the main table to be used (without formatting) later on other calculations."
   ]
  },
  {
   "cell_type": "code",
   "execution_count": 22,
   "metadata": {},
   "outputs": [],
   "source": [
    "#merging all the data calculated in multiple columns into one table:\n",
    "\n",
    "table = table.reset_index(level=['type'])         #convert pivot table indexes into columns                   \n",
    "table = table.reset_index(level=['school_name'])  #convert pivot table indexes into columns\n",
    "\n",
    "table = table.rename(columns={'type':'Type'})\n",
    "table = table.rename(columns={'student_name':'Total Students'})\n",
    "table = table.rename(columns={'math_score':'Average Math Score'})\n",
    "table = table.rename(columns={'reading_score':'Average Reading Score'})\n",
    "\n",
    "#merging tables using user-defined function \"merging\"\n",
    "schoolsummarytable = merging(table, SchoolBudget,'Budget')\n",
    "schoolsummarytable = merging(schoolsummarytable, PerStudentSchoolBudget,'Per Student Budget')\n",
    "schoolsummarytable = merging(schoolsummarytable, PassingMathStudendsPerSchool,'% Passing Math')\n",
    "schoolsummarytable = merging(schoolsummarytable, PassingReadingStudendsPerSchool,'% Passing Reading')\n",
    "schoolsummarytable = merging(schoolsummarytable, OverallPassingRatePerSchool,'% Overall Passing Rate')\n",
    "\n",
    "\n",
    "#reordering the collumn\n",
    "schoolsummarytable = schoolsummarytable[[\"school_name\", \"Type\", \"Total Students\",\n",
    "                                         \"Budget\",\"Per Student Budget\",\n",
    "                                         \"Average Reading Score\",\"Average Math Score\",\n",
    "                                         \"% Passing Reading\",\"% Passing Math\",\n",
    "                                         \"% Overall Passing Rate\",]]\n",
    "\n",
    "#make a Full Deep Copy for use in other tables, without formatting the numeric results ($, %, x,xxx.00, etc)\n",
    "df_temp = schoolsummarytable.copy(deep=True)\n",
    "\n",
    "#format the results for the numeric values using user-defined function \"formarter\"\n",
    "formarter(schoolsummarytable,0)\n",
    "formarter(schoolsummarytable,1)\n",
    "\n",
    "#format table-specific/unique fields\n",
    "schoolsummarytable['Per Student Budget'] = schoolsummarytable['Per Student Budget'].map(\"${:,.2f}\".format)\n",
    "schoolsummarytable = schoolsummarytable.rename(columns={'school_name':'School Name'})"
   ]
  },
  {
   "cell_type": "markdown",
   "metadata": {},
   "source": [
    "### @@School Summary - Results:"
   ]
  },
  {
   "cell_type": "markdown",
   "metadata": {},
   "source": [
    "* Create an overview table that summarizes key metrics about each school:"
   ]
  },
  {
   "cell_type": "code",
   "execution_count": 23,
   "metadata": {},
   "outputs": [
    {
     "data": {
      "text/html": [
       "<div>\n",
       "<style scoped>\n",
       "    .dataframe tbody tr th:only-of-type {\n",
       "        vertical-align: middle;\n",
       "    }\n",
       "\n",
       "    .dataframe tbody tr th {\n",
       "        vertical-align: top;\n",
       "    }\n",
       "\n",
       "    .dataframe thead th {\n",
       "        text-align: right;\n",
       "    }\n",
       "</style>\n",
       "<table border=\"1\" class=\"dataframe\">\n",
       "  <thead>\n",
       "    <tr style=\"text-align: right;\">\n",
       "      <th></th>\n",
       "      <th>School Name</th>\n",
       "      <th>Type</th>\n",
       "      <th>Total Students</th>\n",
       "      <th>Budget</th>\n",
       "      <th>Per Student Budget</th>\n",
       "      <th>Average Reading Score</th>\n",
       "      <th>Average Math Score</th>\n",
       "      <th>% Passing Reading</th>\n",
       "      <th>% Passing Math</th>\n",
       "      <th>% Overall Passing Rate</th>\n",
       "    </tr>\n",
       "  </thead>\n",
       "  <tbody>\n",
       "    <tr>\n",
       "      <th>0</th>\n",
       "      <td>Bailey High School</td>\n",
       "      <td>District</td>\n",
       "      <td>4,976</td>\n",
       "      <td>$3,124,928.00</td>\n",
       "      <td>$628.00</td>\n",
       "      <td>81.03</td>\n",
       "      <td>77.05</td>\n",
       "      <td>81.93%</td>\n",
       "      <td>66.68%</td>\n",
       "      <td>74.31%</td>\n",
       "    </tr>\n",
       "    <tr>\n",
       "      <th>1</th>\n",
       "      <td>Cabrera High School</td>\n",
       "      <td>Charter</td>\n",
       "      <td>1,858</td>\n",
       "      <td>$1,081,356.00</td>\n",
       "      <td>$582.00</td>\n",
       "      <td>83.98</td>\n",
       "      <td>83.06</td>\n",
       "      <td>97.04%</td>\n",
       "      <td>94.13%</td>\n",
       "      <td>95.59%</td>\n",
       "    </tr>\n",
       "    <tr>\n",
       "      <th>2</th>\n",
       "      <td>Figueroa High School</td>\n",
       "      <td>District</td>\n",
       "      <td>2,949</td>\n",
       "      <td>$1,884,411.00</td>\n",
       "      <td>$639.00</td>\n",
       "      <td>81.16</td>\n",
       "      <td>76.71</td>\n",
       "      <td>80.74%</td>\n",
       "      <td>65.99%</td>\n",
       "      <td>73.36%</td>\n",
       "    </tr>\n",
       "    <tr>\n",
       "      <th>3</th>\n",
       "      <td>Ford High School</td>\n",
       "      <td>District</td>\n",
       "      <td>2,739</td>\n",
       "      <td>$1,763,916.00</td>\n",
       "      <td>$644.00</td>\n",
       "      <td>80.75</td>\n",
       "      <td>77.10</td>\n",
       "      <td>79.30%</td>\n",
       "      <td>68.31%</td>\n",
       "      <td>73.80%</td>\n",
       "    </tr>\n",
       "    <tr>\n",
       "      <th>4</th>\n",
       "      <td>Griffin High School</td>\n",
       "      <td>Charter</td>\n",
       "      <td>1,468</td>\n",
       "      <td>$917,500.00</td>\n",
       "      <td>$625.00</td>\n",
       "      <td>83.82</td>\n",
       "      <td>83.35</td>\n",
       "      <td>97.14%</td>\n",
       "      <td>93.39%</td>\n",
       "      <td>95.27%</td>\n",
       "    </tr>\n",
       "    <tr>\n",
       "      <th>5</th>\n",
       "      <td>Hernandez High School</td>\n",
       "      <td>District</td>\n",
       "      <td>4,635</td>\n",
       "      <td>$3,022,020.00</td>\n",
       "      <td>$652.00</td>\n",
       "      <td>80.93</td>\n",
       "      <td>77.29</td>\n",
       "      <td>80.86%</td>\n",
       "      <td>66.75%</td>\n",
       "      <td>73.81%</td>\n",
       "    </tr>\n",
       "    <tr>\n",
       "      <th>6</th>\n",
       "      <td>Holden High School</td>\n",
       "      <td>Charter</td>\n",
       "      <td>427</td>\n",
       "      <td>$248,087.00</td>\n",
       "      <td>$581.00</td>\n",
       "      <td>83.81</td>\n",
       "      <td>83.80</td>\n",
       "      <td>96.25%</td>\n",
       "      <td>92.51%</td>\n",
       "      <td>94.38%</td>\n",
       "    </tr>\n",
       "    <tr>\n",
       "      <th>7</th>\n",
       "      <td>Huang High School</td>\n",
       "      <td>District</td>\n",
       "      <td>2,917</td>\n",
       "      <td>$1,910,635.00</td>\n",
       "      <td>$655.00</td>\n",
       "      <td>81.18</td>\n",
       "      <td>76.63</td>\n",
       "      <td>81.32%</td>\n",
       "      <td>65.68%</td>\n",
       "      <td>73.50%</td>\n",
       "    </tr>\n",
       "    <tr>\n",
       "      <th>8</th>\n",
       "      <td>Johnson High School</td>\n",
       "      <td>District</td>\n",
       "      <td>4,761</td>\n",
       "      <td>$3,094,650.00</td>\n",
       "      <td>$650.00</td>\n",
       "      <td>80.97</td>\n",
       "      <td>77.07</td>\n",
       "      <td>81.22%</td>\n",
       "      <td>66.06%</td>\n",
       "      <td>73.64%</td>\n",
       "    </tr>\n",
       "    <tr>\n",
       "      <th>9</th>\n",
       "      <td>Pena High School</td>\n",
       "      <td>Charter</td>\n",
       "      <td>962</td>\n",
       "      <td>$585,858.00</td>\n",
       "      <td>$609.00</td>\n",
       "      <td>84.04</td>\n",
       "      <td>83.84</td>\n",
       "      <td>95.95%</td>\n",
       "      <td>94.59%</td>\n",
       "      <td>95.27%</td>\n",
       "    </tr>\n",
       "    <tr>\n",
       "      <th>10</th>\n",
       "      <td>Rodriguez High School</td>\n",
       "      <td>District</td>\n",
       "      <td>3,999</td>\n",
       "      <td>$2,547,363.00</td>\n",
       "      <td>$637.00</td>\n",
       "      <td>80.74</td>\n",
       "      <td>76.84</td>\n",
       "      <td>80.22%</td>\n",
       "      <td>66.37%</td>\n",
       "      <td>73.29%</td>\n",
       "    </tr>\n",
       "    <tr>\n",
       "      <th>11</th>\n",
       "      <td>Shelton High School</td>\n",
       "      <td>Charter</td>\n",
       "      <td>1,761</td>\n",
       "      <td>$1,056,600.00</td>\n",
       "      <td>$600.00</td>\n",
       "      <td>83.73</td>\n",
       "      <td>83.36</td>\n",
       "      <td>95.85%</td>\n",
       "      <td>93.87%</td>\n",
       "      <td>94.86%</td>\n",
       "    </tr>\n",
       "    <tr>\n",
       "      <th>12</th>\n",
       "      <td>Thomas High School</td>\n",
       "      <td>Charter</td>\n",
       "      <td>1,635</td>\n",
       "      <td>$1,043,130.00</td>\n",
       "      <td>$638.00</td>\n",
       "      <td>83.85</td>\n",
       "      <td>83.42</td>\n",
       "      <td>97.31%</td>\n",
       "      <td>93.27%</td>\n",
       "      <td>95.29%</td>\n",
       "    </tr>\n",
       "    <tr>\n",
       "      <th>13</th>\n",
       "      <td>Wilson High School</td>\n",
       "      <td>Charter</td>\n",
       "      <td>2,283</td>\n",
       "      <td>$1,319,574.00</td>\n",
       "      <td>$578.00</td>\n",
       "      <td>83.99</td>\n",
       "      <td>83.27</td>\n",
       "      <td>96.54%</td>\n",
       "      <td>93.87%</td>\n",
       "      <td>95.20%</td>\n",
       "    </tr>\n",
       "    <tr>\n",
       "      <th>14</th>\n",
       "      <td>Wright High School</td>\n",
       "      <td>Charter</td>\n",
       "      <td>1,800</td>\n",
       "      <td>$1,049,400.00</td>\n",
       "      <td>$583.00</td>\n",
       "      <td>83.95</td>\n",
       "      <td>83.68</td>\n",
       "      <td>96.61%</td>\n",
       "      <td>93.33%</td>\n",
       "      <td>94.97%</td>\n",
       "    </tr>\n",
       "  </tbody>\n",
       "</table>\n",
       "</div>"
      ],
      "text/plain": [
       "              School Name      Type Total Students         Budget  \\\n",
       "0      Bailey High School  District          4,976  $3,124,928.00   \n",
       "1     Cabrera High School   Charter          1,858  $1,081,356.00   \n",
       "2    Figueroa High School  District          2,949  $1,884,411.00   \n",
       "3        Ford High School  District          2,739  $1,763,916.00   \n",
       "4     Griffin High School   Charter          1,468    $917,500.00   \n",
       "5   Hernandez High School  District          4,635  $3,022,020.00   \n",
       "6      Holden High School   Charter            427    $248,087.00   \n",
       "7       Huang High School  District          2,917  $1,910,635.00   \n",
       "8     Johnson High School  District          4,761  $3,094,650.00   \n",
       "9        Pena High School   Charter            962    $585,858.00   \n",
       "10  Rodriguez High School  District          3,999  $2,547,363.00   \n",
       "11    Shelton High School   Charter          1,761  $1,056,600.00   \n",
       "12     Thomas High School   Charter          1,635  $1,043,130.00   \n",
       "13     Wilson High School   Charter          2,283  $1,319,574.00   \n",
       "14     Wright High School   Charter          1,800  $1,049,400.00   \n",
       "\n",
       "   Per Student Budget Average Reading Score Average Math Score  \\\n",
       "0             $628.00                 81.03              77.05   \n",
       "1             $582.00                 83.98              83.06   \n",
       "2             $639.00                 81.16              76.71   \n",
       "3             $644.00                 80.75              77.10   \n",
       "4             $625.00                 83.82              83.35   \n",
       "5             $652.00                 80.93              77.29   \n",
       "6             $581.00                 83.81              83.80   \n",
       "7             $655.00                 81.18              76.63   \n",
       "8             $650.00                 80.97              77.07   \n",
       "9             $609.00                 84.04              83.84   \n",
       "10            $637.00                 80.74              76.84   \n",
       "11            $600.00                 83.73              83.36   \n",
       "12            $638.00                 83.85              83.42   \n",
       "13            $578.00                 83.99              83.27   \n",
       "14            $583.00                 83.95              83.68   \n",
       "\n",
       "   % Passing Reading % Passing Math % Overall Passing Rate  \n",
       "0             81.93%         66.68%                 74.31%  \n",
       "1             97.04%         94.13%                 95.59%  \n",
       "2             80.74%         65.99%                 73.36%  \n",
       "3             79.30%         68.31%                 73.80%  \n",
       "4             97.14%         93.39%                 95.27%  \n",
       "5             80.86%         66.75%                 73.81%  \n",
       "6             96.25%         92.51%                 94.38%  \n",
       "7             81.32%         65.68%                 73.50%  \n",
       "8             81.22%         66.06%                 73.64%  \n",
       "9             95.95%         94.59%                 95.27%  \n",
       "10            80.22%         66.37%                 73.29%  \n",
       "11            95.85%         93.87%                 94.86%  \n",
       "12            97.31%         93.27%                 95.29%  \n",
       "13            96.54%         93.87%                 95.20%  \n",
       "14            96.61%         93.33%                 94.97%  "
      ]
     },
     "execution_count": 23,
     "metadata": {},
     "output_type": "execute_result"
    }
   ],
   "source": [
    "schoolsummarytable"
   ]
  },
  {
   "cell_type": "markdown",
   "metadata": {},
   "source": [
    "* Create a dataframe to hold the above results"
   ]
  },
  {
   "cell_type": "code",
   "execution_count": 24,
   "metadata": {},
   "outputs": [
    {
     "data": {
      "text/html": [
       "<div>\n",
       "<style scoped>\n",
       "    .dataframe tbody tr th:only-of-type {\n",
       "        vertical-align: middle;\n",
       "    }\n",
       "\n",
       "    .dataframe tbody tr th {\n",
       "        vertical-align: top;\n",
       "    }\n",
       "\n",
       "    .dataframe thead th {\n",
       "        text-align: right;\n",
       "    }\n",
       "</style>\n",
       "<table border=\"1\" class=\"dataframe\">\n",
       "  <thead>\n",
       "    <tr style=\"text-align: right;\">\n",
       "      <th></th>\n",
       "      <th>School Name</th>\n",
       "      <th>Type</th>\n",
       "      <th>Budget</th>\n",
       "      <th>Total Students</th>\n",
       "      <th>Per Student Budget</th>\n",
       "      <th>Average Math Score</th>\n",
       "      <th>Average Reading Score</th>\n",
       "      <th>% Passing Math</th>\n",
       "      <th>% Passing Reading</th>\n",
       "      <th>% Overal Passing Rate</th>\n",
       "    </tr>\n",
       "  </thead>\n",
       "  <tbody>\n",
       "    <tr>\n",
       "      <th>0</th>\n",
       "      <td>Bailey High School</td>\n",
       "      <td>District</td>\n",
       "      <td>$3,124,928.00</td>\n",
       "      <td>4,976</td>\n",
       "      <td>$628.00</td>\n",
       "      <td>77.05</td>\n",
       "      <td>81.03</td>\n",
       "      <td>66.68%</td>\n",
       "      <td>81.93%</td>\n",
       "      <td>74.31%</td>\n",
       "    </tr>\n",
       "    <tr>\n",
       "      <th>1</th>\n",
       "      <td>Cabrera High School</td>\n",
       "      <td>Charter</td>\n",
       "      <td>$1,081,356.00</td>\n",
       "      <td>1,858</td>\n",
       "      <td>$582.00</td>\n",
       "      <td>83.06</td>\n",
       "      <td>83.98</td>\n",
       "      <td>94.13%</td>\n",
       "      <td>97.04%</td>\n",
       "      <td>95.59%</td>\n",
       "    </tr>\n",
       "    <tr>\n",
       "      <th>2</th>\n",
       "      <td>Figueroa High School</td>\n",
       "      <td>District</td>\n",
       "      <td>$1,884,411.00</td>\n",
       "      <td>2,949</td>\n",
       "      <td>$639.00</td>\n",
       "      <td>76.71</td>\n",
       "      <td>81.16</td>\n",
       "      <td>65.99%</td>\n",
       "      <td>80.74%</td>\n",
       "      <td>73.36%</td>\n",
       "    </tr>\n",
       "    <tr>\n",
       "      <th>3</th>\n",
       "      <td>Ford High School</td>\n",
       "      <td>District</td>\n",
       "      <td>$1,763,916.00</td>\n",
       "      <td>2,739</td>\n",
       "      <td>$644.00</td>\n",
       "      <td>77.10</td>\n",
       "      <td>80.75</td>\n",
       "      <td>68.31%</td>\n",
       "      <td>79.30%</td>\n",
       "      <td>73.80%</td>\n",
       "    </tr>\n",
       "    <tr>\n",
       "      <th>4</th>\n",
       "      <td>Griffin High School</td>\n",
       "      <td>Charter</td>\n",
       "      <td>$917,500.00</td>\n",
       "      <td>1,468</td>\n",
       "      <td>$625.00</td>\n",
       "      <td>83.35</td>\n",
       "      <td>83.82</td>\n",
       "      <td>93.39%</td>\n",
       "      <td>97.14%</td>\n",
       "      <td>95.27%</td>\n",
       "    </tr>\n",
       "    <tr>\n",
       "      <th>5</th>\n",
       "      <td>Hernandez High School</td>\n",
       "      <td>District</td>\n",
       "      <td>$3,022,020.00</td>\n",
       "      <td>4,635</td>\n",
       "      <td>$652.00</td>\n",
       "      <td>77.29</td>\n",
       "      <td>80.93</td>\n",
       "      <td>66.75%</td>\n",
       "      <td>80.86%</td>\n",
       "      <td>73.81%</td>\n",
       "    </tr>\n",
       "    <tr>\n",
       "      <th>6</th>\n",
       "      <td>Holden High School</td>\n",
       "      <td>Charter</td>\n",
       "      <td>$248,087.00</td>\n",
       "      <td>427</td>\n",
       "      <td>$581.00</td>\n",
       "      <td>83.80</td>\n",
       "      <td>83.81</td>\n",
       "      <td>92.51%</td>\n",
       "      <td>96.25%</td>\n",
       "      <td>94.38%</td>\n",
       "    </tr>\n",
       "    <tr>\n",
       "      <th>7</th>\n",
       "      <td>Huang High School</td>\n",
       "      <td>District</td>\n",
       "      <td>$1,910,635.00</td>\n",
       "      <td>2,917</td>\n",
       "      <td>$655.00</td>\n",
       "      <td>76.63</td>\n",
       "      <td>81.18</td>\n",
       "      <td>65.68%</td>\n",
       "      <td>81.32%</td>\n",
       "      <td>73.50%</td>\n",
       "    </tr>\n",
       "    <tr>\n",
       "      <th>8</th>\n",
       "      <td>Johnson High School</td>\n",
       "      <td>District</td>\n",
       "      <td>$3,094,650.00</td>\n",
       "      <td>4,761</td>\n",
       "      <td>$650.00</td>\n",
       "      <td>77.07</td>\n",
       "      <td>80.97</td>\n",
       "      <td>66.06%</td>\n",
       "      <td>81.22%</td>\n",
       "      <td>73.64%</td>\n",
       "    </tr>\n",
       "    <tr>\n",
       "      <th>9</th>\n",
       "      <td>Pena High School</td>\n",
       "      <td>Charter</td>\n",
       "      <td>$585,858.00</td>\n",
       "      <td>962</td>\n",
       "      <td>$609.00</td>\n",
       "      <td>83.84</td>\n",
       "      <td>84.04</td>\n",
       "      <td>94.59%</td>\n",
       "      <td>95.95%</td>\n",
       "      <td>95.27%</td>\n",
       "    </tr>\n",
       "    <tr>\n",
       "      <th>10</th>\n",
       "      <td>Rodriguez High School</td>\n",
       "      <td>District</td>\n",
       "      <td>$2,547,363.00</td>\n",
       "      <td>3,999</td>\n",
       "      <td>$637.00</td>\n",
       "      <td>76.84</td>\n",
       "      <td>80.74</td>\n",
       "      <td>66.37%</td>\n",
       "      <td>80.22%</td>\n",
       "      <td>73.29%</td>\n",
       "    </tr>\n",
       "    <tr>\n",
       "      <th>11</th>\n",
       "      <td>Shelton High School</td>\n",
       "      <td>Charter</td>\n",
       "      <td>$1,056,600.00</td>\n",
       "      <td>1,761</td>\n",
       "      <td>$600.00</td>\n",
       "      <td>83.36</td>\n",
       "      <td>83.73</td>\n",
       "      <td>93.87%</td>\n",
       "      <td>95.85%</td>\n",
       "      <td>94.86%</td>\n",
       "    </tr>\n",
       "    <tr>\n",
       "      <th>12</th>\n",
       "      <td>Thomas High School</td>\n",
       "      <td>Charter</td>\n",
       "      <td>$1,043,130.00</td>\n",
       "      <td>1,635</td>\n",
       "      <td>$638.00</td>\n",
       "      <td>83.42</td>\n",
       "      <td>83.85</td>\n",
       "      <td>93.27%</td>\n",
       "      <td>97.31%</td>\n",
       "      <td>95.29%</td>\n",
       "    </tr>\n",
       "    <tr>\n",
       "      <th>13</th>\n",
       "      <td>Wilson High School</td>\n",
       "      <td>Charter</td>\n",
       "      <td>$1,319,574.00</td>\n",
       "      <td>2,283</td>\n",
       "      <td>$578.00</td>\n",
       "      <td>83.27</td>\n",
       "      <td>83.99</td>\n",
       "      <td>93.87%</td>\n",
       "      <td>96.54%</td>\n",
       "      <td>95.20%</td>\n",
       "    </tr>\n",
       "    <tr>\n",
       "      <th>14</th>\n",
       "      <td>Wright High School</td>\n",
       "      <td>Charter</td>\n",
       "      <td>$1,049,400.00</td>\n",
       "      <td>1,800</td>\n",
       "      <td>$583.00</td>\n",
       "      <td>83.68</td>\n",
       "      <td>83.95</td>\n",
       "      <td>93.33%</td>\n",
       "      <td>96.61%</td>\n",
       "      <td>94.97%</td>\n",
       "    </tr>\n",
       "  </tbody>\n",
       "</table>\n",
       "</div>"
      ],
      "text/plain": [
       "              School Name      Type         Budget Total Students  \\\n",
       "0      Bailey High School  District  $3,124,928.00          4,976   \n",
       "1     Cabrera High School   Charter  $1,081,356.00          1,858   \n",
       "2    Figueroa High School  District  $1,884,411.00          2,949   \n",
       "3        Ford High School  District  $1,763,916.00          2,739   \n",
       "4     Griffin High School   Charter    $917,500.00          1,468   \n",
       "5   Hernandez High School  District  $3,022,020.00          4,635   \n",
       "6      Holden High School   Charter    $248,087.00            427   \n",
       "7       Huang High School  District  $1,910,635.00          2,917   \n",
       "8     Johnson High School  District  $3,094,650.00          4,761   \n",
       "9        Pena High School   Charter    $585,858.00            962   \n",
       "10  Rodriguez High School  District  $2,547,363.00          3,999   \n",
       "11    Shelton High School   Charter  $1,056,600.00          1,761   \n",
       "12     Thomas High School   Charter  $1,043,130.00          1,635   \n",
       "13     Wilson High School   Charter  $1,319,574.00          2,283   \n",
       "14     Wright High School   Charter  $1,049,400.00          1,800   \n",
       "\n",
       "   Per Student Budget Average Math Score Average Reading Score % Passing Math  \\\n",
       "0             $628.00              77.05                 81.03         66.68%   \n",
       "1             $582.00              83.06                 83.98         94.13%   \n",
       "2             $639.00              76.71                 81.16         65.99%   \n",
       "3             $644.00              77.10                 80.75         68.31%   \n",
       "4             $625.00              83.35                 83.82         93.39%   \n",
       "5             $652.00              77.29                 80.93         66.75%   \n",
       "6             $581.00              83.80                 83.81         92.51%   \n",
       "7             $655.00              76.63                 81.18         65.68%   \n",
       "8             $650.00              77.07                 80.97         66.06%   \n",
       "9             $609.00              83.84                 84.04         94.59%   \n",
       "10            $637.00              76.84                 80.74         66.37%   \n",
       "11            $600.00              83.36                 83.73         93.87%   \n",
       "12            $638.00              83.42                 83.85         93.27%   \n",
       "13            $578.00              83.27                 83.99         93.87%   \n",
       "14            $583.00              83.68                 83.95         93.33%   \n",
       "\n",
       "   % Passing Reading % Overal Passing Rate  \n",
       "0             81.93%                74.31%  \n",
       "1             97.04%                95.59%  \n",
       "2             80.74%                73.36%  \n",
       "3             79.30%                73.80%  \n",
       "4             97.14%                95.27%  \n",
       "5             80.86%                73.81%  \n",
       "6             96.25%                94.38%  \n",
       "7             81.32%                73.50%  \n",
       "8             81.22%                73.64%  \n",
       "9             95.95%                95.27%  \n",
       "10            80.22%                73.29%  \n",
       "11            95.85%                94.86%  \n",
       "12            97.31%                95.29%  \n",
       "13            96.54%                95.20%  \n",
       "14            96.61%                94.97%  "
      ]
     },
     "execution_count": 24,
     "metadata": {},
     "output_type": "execute_result"
    }
   ],
   "source": [
    "df_schoolsummarytable = pd.DataFrame({\"School Name\":schoolsummarytable['School Name'],\n",
    "                                      \"Type\":schoolsummarytable['Type'],\n",
    "                                      \"Budget\":schoolsummarytable['Budget'],\n",
    "                                      \"Total Students\":schoolsummarytable['Total Students'],\n",
    "                                      \"Per Student Budget\":schoolsummarytable['Per Student Budget'],\n",
    "                                      \"Average Math Score\":schoolsummarytable['Average Math Score'],\n",
    "                                      \"Average Reading Score\":schoolsummarytable['Average Reading Score'],\n",
    "                                      \"% Passing Math\":schoolsummarytable['% Passing Math'],\n",
    "                                      \"% Passing Reading\":schoolsummarytable['% Passing Reading'],\n",
    "                                      \"% Overal Passing Rate\":schoolsummarytable['% Overall Passing Rate']                                   \n",
    "                                      })\n",
    "df_schoolsummarytable"
   ]
  },
  {
   "cell_type": "markdown",
   "metadata": {},
   "source": [
    "## 3) Top Performing Schools (By Passing Rate)"
   ]
  },
  {
   "cell_type": "markdown",
   "metadata": {},
   "source": [
    "* Sort and display the top five schools in overall passing rate"
   ]
  },
  {
   "cell_type": "code",
   "execution_count": 25,
   "metadata": {},
   "outputs": [],
   "source": [
    "TopPerformSchool = schoolsummarytable\n",
    "TopPerformSchool = TopPerformSchool\\\n",
    "                        .sort_values([\"% Overall Passing Rate\"] ,ascending=False)\\\n",
    "                        .set_index(['School Name'])\\\n",
    "                        .head(5)"
   ]
  },
  {
   "cell_type": "markdown",
   "metadata": {},
   "source": [
    "### @@Top Performing Schools (By Passing Rate) - Results:"
   ]
  },
  {
   "cell_type": "code",
   "execution_count": 26,
   "metadata": {},
   "outputs": [
    {
     "data": {
      "text/html": [
       "<div>\n",
       "<style scoped>\n",
       "    .dataframe tbody tr th:only-of-type {\n",
       "        vertical-align: middle;\n",
       "    }\n",
       "\n",
       "    .dataframe tbody tr th {\n",
       "        vertical-align: top;\n",
       "    }\n",
       "\n",
       "    .dataframe thead th {\n",
       "        text-align: right;\n",
       "    }\n",
       "</style>\n",
       "<table border=\"1\" class=\"dataframe\">\n",
       "  <thead>\n",
       "    <tr style=\"text-align: right;\">\n",
       "      <th></th>\n",
       "      <th>Type</th>\n",
       "      <th>Total Students</th>\n",
       "      <th>Budget</th>\n",
       "      <th>Per Student Budget</th>\n",
       "      <th>Average Reading Score</th>\n",
       "      <th>Average Math Score</th>\n",
       "      <th>% Passing Reading</th>\n",
       "      <th>% Passing Math</th>\n",
       "      <th>% Overall Passing Rate</th>\n",
       "    </tr>\n",
       "    <tr>\n",
       "      <th>School Name</th>\n",
       "      <th></th>\n",
       "      <th></th>\n",
       "      <th></th>\n",
       "      <th></th>\n",
       "      <th></th>\n",
       "      <th></th>\n",
       "      <th></th>\n",
       "      <th></th>\n",
       "      <th></th>\n",
       "    </tr>\n",
       "  </thead>\n",
       "  <tbody>\n",
       "    <tr>\n",
       "      <th>Cabrera High School</th>\n",
       "      <td>Charter</td>\n",
       "      <td>1,858</td>\n",
       "      <td>$1,081,356.00</td>\n",
       "      <td>$582.00</td>\n",
       "      <td>83.98</td>\n",
       "      <td>83.06</td>\n",
       "      <td>97.04%</td>\n",
       "      <td>94.13%</td>\n",
       "      <td>95.59%</td>\n",
       "    </tr>\n",
       "    <tr>\n",
       "      <th>Thomas High School</th>\n",
       "      <td>Charter</td>\n",
       "      <td>1,635</td>\n",
       "      <td>$1,043,130.00</td>\n",
       "      <td>$638.00</td>\n",
       "      <td>83.85</td>\n",
       "      <td>83.42</td>\n",
       "      <td>97.31%</td>\n",
       "      <td>93.27%</td>\n",
       "      <td>95.29%</td>\n",
       "    </tr>\n",
       "    <tr>\n",
       "      <th>Griffin High School</th>\n",
       "      <td>Charter</td>\n",
       "      <td>1,468</td>\n",
       "      <td>$917,500.00</td>\n",
       "      <td>$625.00</td>\n",
       "      <td>83.82</td>\n",
       "      <td>83.35</td>\n",
       "      <td>97.14%</td>\n",
       "      <td>93.39%</td>\n",
       "      <td>95.27%</td>\n",
       "    </tr>\n",
       "    <tr>\n",
       "      <th>Pena High School</th>\n",
       "      <td>Charter</td>\n",
       "      <td>962</td>\n",
       "      <td>$585,858.00</td>\n",
       "      <td>$609.00</td>\n",
       "      <td>84.04</td>\n",
       "      <td>83.84</td>\n",
       "      <td>95.95%</td>\n",
       "      <td>94.59%</td>\n",
       "      <td>95.27%</td>\n",
       "    </tr>\n",
       "    <tr>\n",
       "      <th>Wilson High School</th>\n",
       "      <td>Charter</td>\n",
       "      <td>2,283</td>\n",
       "      <td>$1,319,574.00</td>\n",
       "      <td>$578.00</td>\n",
       "      <td>83.99</td>\n",
       "      <td>83.27</td>\n",
       "      <td>96.54%</td>\n",
       "      <td>93.87%</td>\n",
       "      <td>95.20%</td>\n",
       "    </tr>\n",
       "  </tbody>\n",
       "</table>\n",
       "</div>"
      ],
      "text/plain": [
       "                        Type Total Students         Budget Per Student Budget  \\\n",
       "School Name                                                                     \n",
       "Cabrera High School  Charter          1,858  $1,081,356.00            $582.00   \n",
       "Thomas High School   Charter          1,635  $1,043,130.00            $638.00   \n",
       "Griffin High School  Charter          1,468    $917,500.00            $625.00   \n",
       "Pena High School     Charter            962    $585,858.00            $609.00   \n",
       "Wilson High School   Charter          2,283  $1,319,574.00            $578.00   \n",
       "\n",
       "                    Average Reading Score Average Math Score  \\\n",
       "School Name                                                    \n",
       "Cabrera High School                 83.98              83.06   \n",
       "Thomas High School                  83.85              83.42   \n",
       "Griffin High School                 83.82              83.35   \n",
       "Pena High School                    84.04              83.84   \n",
       "Wilson High School                  83.99              83.27   \n",
       "\n",
       "                    % Passing Reading % Passing Math % Overall Passing Rate  \n",
       "School Name                                                                  \n",
       "Cabrera High School            97.04%         94.13%                 95.59%  \n",
       "Thomas High School             97.31%         93.27%                 95.29%  \n",
       "Griffin High School            97.14%         93.39%                 95.27%  \n",
       "Pena High School               95.95%         94.59%                 95.27%  \n",
       "Wilson High School             96.54%         93.87%                 95.20%  "
      ]
     },
     "execution_count": 26,
     "metadata": {},
     "output_type": "execute_result"
    }
   ],
   "source": [
    "TopPerformSchool"
   ]
  },
  {
   "cell_type": "markdown",
   "metadata": {},
   "source": [
    "## 4) Bottom Performing Schools (By Passing Rate)"
   ]
  },
  {
   "cell_type": "markdown",
   "metadata": {},
   "source": [
    "* Sort and display the five worst-performing schools"
   ]
  },
  {
   "cell_type": "code",
   "execution_count": 27,
   "metadata": {},
   "outputs": [],
   "source": [
    "BottomPerformSchool = schoolsummarytable\n",
    "BottomPerformSchool = BottomPerformSchool\\\n",
    "                            .sort_values([\"% Overall Passing Rate\"],ascending=True)\\\n",
    "                            .set_index(['School Name'])\\\n",
    "                            .head(5)"
   ]
  },
  {
   "cell_type": "markdown",
   "metadata": {},
   "source": [
    "### @@Bottom Performing Schools (By Passing Rate) - Results:"
   ]
  },
  {
   "cell_type": "code",
   "execution_count": 28,
   "metadata": {},
   "outputs": [
    {
     "data": {
      "text/html": [
       "<div>\n",
       "<style scoped>\n",
       "    .dataframe tbody tr th:only-of-type {\n",
       "        vertical-align: middle;\n",
       "    }\n",
       "\n",
       "    .dataframe tbody tr th {\n",
       "        vertical-align: top;\n",
       "    }\n",
       "\n",
       "    .dataframe thead th {\n",
       "        text-align: right;\n",
       "    }\n",
       "</style>\n",
       "<table border=\"1\" class=\"dataframe\">\n",
       "  <thead>\n",
       "    <tr style=\"text-align: right;\">\n",
       "      <th></th>\n",
       "      <th>Type</th>\n",
       "      <th>Total Students</th>\n",
       "      <th>Budget</th>\n",
       "      <th>Per Student Budget</th>\n",
       "      <th>Average Reading Score</th>\n",
       "      <th>Average Math Score</th>\n",
       "      <th>% Passing Reading</th>\n",
       "      <th>% Passing Math</th>\n",
       "      <th>% Overall Passing Rate</th>\n",
       "    </tr>\n",
       "    <tr>\n",
       "      <th>School Name</th>\n",
       "      <th></th>\n",
       "      <th></th>\n",
       "      <th></th>\n",
       "      <th></th>\n",
       "      <th></th>\n",
       "      <th></th>\n",
       "      <th></th>\n",
       "      <th></th>\n",
       "      <th></th>\n",
       "    </tr>\n",
       "  </thead>\n",
       "  <tbody>\n",
       "    <tr>\n",
       "      <th>Rodriguez High School</th>\n",
       "      <td>District</td>\n",
       "      <td>3,999</td>\n",
       "      <td>$2,547,363.00</td>\n",
       "      <td>$637.00</td>\n",
       "      <td>80.74</td>\n",
       "      <td>76.84</td>\n",
       "      <td>80.22%</td>\n",
       "      <td>66.37%</td>\n",
       "      <td>73.29%</td>\n",
       "    </tr>\n",
       "    <tr>\n",
       "      <th>Figueroa High School</th>\n",
       "      <td>District</td>\n",
       "      <td>2,949</td>\n",
       "      <td>$1,884,411.00</td>\n",
       "      <td>$639.00</td>\n",
       "      <td>81.16</td>\n",
       "      <td>76.71</td>\n",
       "      <td>80.74%</td>\n",
       "      <td>65.99%</td>\n",
       "      <td>73.36%</td>\n",
       "    </tr>\n",
       "    <tr>\n",
       "      <th>Huang High School</th>\n",
       "      <td>District</td>\n",
       "      <td>2,917</td>\n",
       "      <td>$1,910,635.00</td>\n",
       "      <td>$655.00</td>\n",
       "      <td>81.18</td>\n",
       "      <td>76.63</td>\n",
       "      <td>81.32%</td>\n",
       "      <td>65.68%</td>\n",
       "      <td>73.50%</td>\n",
       "    </tr>\n",
       "    <tr>\n",
       "      <th>Johnson High School</th>\n",
       "      <td>District</td>\n",
       "      <td>4,761</td>\n",
       "      <td>$3,094,650.00</td>\n",
       "      <td>$650.00</td>\n",
       "      <td>80.97</td>\n",
       "      <td>77.07</td>\n",
       "      <td>81.22%</td>\n",
       "      <td>66.06%</td>\n",
       "      <td>73.64%</td>\n",
       "    </tr>\n",
       "    <tr>\n",
       "      <th>Ford High School</th>\n",
       "      <td>District</td>\n",
       "      <td>2,739</td>\n",
       "      <td>$1,763,916.00</td>\n",
       "      <td>$644.00</td>\n",
       "      <td>80.75</td>\n",
       "      <td>77.10</td>\n",
       "      <td>79.30%</td>\n",
       "      <td>68.31%</td>\n",
       "      <td>73.80%</td>\n",
       "    </tr>\n",
       "  </tbody>\n",
       "</table>\n",
       "</div>"
      ],
      "text/plain": [
       "                           Type Total Students         Budget  \\\n",
       "School Name                                                     \n",
       "Rodriguez High School  District          3,999  $2,547,363.00   \n",
       "Figueroa High School   District          2,949  $1,884,411.00   \n",
       "Huang High School      District          2,917  $1,910,635.00   \n",
       "Johnson High School    District          4,761  $3,094,650.00   \n",
       "Ford High School       District          2,739  $1,763,916.00   \n",
       "\n",
       "                      Per Student Budget Average Reading Score  \\\n",
       "School Name                                                      \n",
       "Rodriguez High School            $637.00                 80.74   \n",
       "Figueroa High School             $639.00                 81.16   \n",
       "Huang High School                $655.00                 81.18   \n",
       "Johnson High School              $650.00                 80.97   \n",
       "Ford High School                 $644.00                 80.75   \n",
       "\n",
       "                      Average Math Score % Passing Reading % Passing Math  \\\n",
       "School Name                                                                 \n",
       "Rodriguez High School              76.84            80.22%         66.37%   \n",
       "Figueroa High School               76.71            80.74%         65.99%   \n",
       "Huang High School                  76.63            81.32%         65.68%   \n",
       "Johnson High School                77.07            81.22%         66.06%   \n",
       "Ford High School                   77.10            79.30%         68.31%   \n",
       "\n",
       "                      % Overall Passing Rate  \n",
       "School Name                                   \n",
       "Rodriguez High School                 73.29%  \n",
       "Figueroa High School                  73.36%  \n",
       "Huang High School                     73.50%  \n",
       "Johnson High School                   73.64%  \n",
       "Ford High School                      73.80%  "
      ]
     },
     "execution_count": 28,
     "metadata": {},
     "output_type": "execute_result"
    }
   ],
   "source": [
    "BottomPerformSchool"
   ]
  },
  {
   "cell_type": "markdown",
   "metadata": {
    "collapsed": true
   },
   "source": [
    "## 5) Math Scores by Grade"
   ]
  },
  {
   "cell_type": "markdown",
   "metadata": {},
   "source": [
    "* Create a table that lists the average Math Score for students of each grade level (9th, 10th, 11th, 12th) at each school.\n",
    "\n",
    "  * Create a pandas series for each grade. Hint: use a conditional statement.\n",
    "  * Group each series by school"
   ]
  },
  {
   "cell_type": "code",
   "execution_count": 29,
   "metadata": {},
   "outputs": [
    {
     "data": {
      "text/plain": [
       "array(['9th', '12th', '11th', '10th'], dtype=object)"
      ]
     },
     "execution_count": 29,
     "metadata": {},
     "output_type": "execute_result"
    }
   ],
   "source": [
    "#First checking what values we have for \"grade\" in the table\n",
    "grades=school_data_complete['grade'].unique()\n",
    "grades"
   ]
  },
  {
   "cell_type": "code",
   "execution_count": 30,
   "metadata": {},
   "outputs": [],
   "source": [
    "#Create the series for each grade using conditional statements, then group by school.\n",
    "MathScoresByGrade9th = school_data_complete.loc[school_data_complete['grade'] == '9th', ['school_name','math_score']]\n",
    "MathScoresByGrade9thMean = MathScoresByGrade9th.groupby('school_name')['math_score'].mean()\n",
    "\n",
    "MathScoresByGrade10th = school_data_complete.loc[school_data_complete['grade'] == '10th', ['school_name','math_score']]\n",
    "MathScoresByGrade10thMean = MathScoresByGrade10th.groupby('school_name')['math_score'].mean()\n",
    "\n",
    "MathScoresByGrade11th = school_data_complete.loc[school_data_complete['grade'] == '11th', ['school_name','math_score']]\n",
    "MathScoresByGrade11thMean = MathScoresByGrade11th.groupby('school_name')['math_score'].mean()\n",
    "\n",
    "MathScoresByGrade12th = school_data_complete.loc[school_data_complete['grade'] == '12th', ['school_name','math_score']]\n",
    "MathScoresByGrade12thMean = MathScoresByGrade12th.groupby('school_name')['math_score'].mean()"
   ]
  },
  {
   "cell_type": "markdown",
   "metadata": {},
   "source": [
    "  * Combine the series into a dataframe"
   ]
  },
  {
   "cell_type": "code",
   "execution_count": 31,
   "metadata": {},
   "outputs": [],
   "source": [
    "mathscores = pd.DataFrame({\"9th\":MathScoresByGrade9thMean,\n",
    "                           \"10th\":MathScoresByGrade10thMean,\n",
    "                           \"11th\":MathScoresByGrade11thMean,\n",
    "                          \"12th\":MathScoresByGrade12thMean\n",
    "                          })"
   ]
  },
  {
   "cell_type": "markdown",
   "metadata": {},
   "source": [
    "* Optional: give the displayed data cleaner formatting"
   ]
  },
  {
   "cell_type": "code",
   "execution_count": 32,
   "metadata": {},
   "outputs": [],
   "source": [
    "mathscores['9th'] = mathscores['9th'].map(\"{:,.2f}\".format)\n",
    "mathscores['10th'] = mathscores['10th'].map(\"{:,.2f}\".format)\n",
    "mathscores['11th'] = mathscores['11th'].map(\"{:,.2f}\".format)\n",
    "mathscores['12th'] = mathscores['12th'].map(\"{:,.2f}\".format)\n",
    "mathscores = mathscores.rename_axis('School Name')\n"
   ]
  },
  {
   "cell_type": "markdown",
   "metadata": {},
   "source": [
    "### @@ Math Scores by Grade - Results:"
   ]
  },
  {
   "cell_type": "code",
   "execution_count": 33,
   "metadata": {
    "scrolled": true
   },
   "outputs": [
    {
     "data": {
      "text/html": [
       "<div>\n",
       "<style scoped>\n",
       "    .dataframe tbody tr th:only-of-type {\n",
       "        vertical-align: middle;\n",
       "    }\n",
       "\n",
       "    .dataframe tbody tr th {\n",
       "        vertical-align: top;\n",
       "    }\n",
       "\n",
       "    .dataframe thead th {\n",
       "        text-align: right;\n",
       "    }\n",
       "</style>\n",
       "<table border=\"1\" class=\"dataframe\">\n",
       "  <thead>\n",
       "    <tr style=\"text-align: right;\">\n",
       "      <th></th>\n",
       "      <th>9th</th>\n",
       "      <th>10th</th>\n",
       "      <th>11th</th>\n",
       "      <th>12th</th>\n",
       "    </tr>\n",
       "    <tr>\n",
       "      <th>School Name</th>\n",
       "      <th></th>\n",
       "      <th></th>\n",
       "      <th></th>\n",
       "      <th></th>\n",
       "    </tr>\n",
       "  </thead>\n",
       "  <tbody>\n",
       "    <tr>\n",
       "      <th>Bailey High School</th>\n",
       "      <td>77.08</td>\n",
       "      <td>77.00</td>\n",
       "      <td>77.52</td>\n",
       "      <td>76.49</td>\n",
       "    </tr>\n",
       "    <tr>\n",
       "      <th>Cabrera High School</th>\n",
       "      <td>83.09</td>\n",
       "      <td>83.15</td>\n",
       "      <td>82.77</td>\n",
       "      <td>83.28</td>\n",
       "    </tr>\n",
       "    <tr>\n",
       "      <th>Figueroa High School</th>\n",
       "      <td>76.40</td>\n",
       "      <td>76.54</td>\n",
       "      <td>76.88</td>\n",
       "      <td>77.15</td>\n",
       "    </tr>\n",
       "    <tr>\n",
       "      <th>Ford High School</th>\n",
       "      <td>77.36</td>\n",
       "      <td>77.67</td>\n",
       "      <td>76.92</td>\n",
       "      <td>76.18</td>\n",
       "    </tr>\n",
       "    <tr>\n",
       "      <th>Griffin High School</th>\n",
       "      <td>82.04</td>\n",
       "      <td>84.23</td>\n",
       "      <td>83.84</td>\n",
       "      <td>83.36</td>\n",
       "    </tr>\n",
       "    <tr>\n",
       "      <th>Hernandez High School</th>\n",
       "      <td>77.44</td>\n",
       "      <td>77.34</td>\n",
       "      <td>77.14</td>\n",
       "      <td>77.19</td>\n",
       "    </tr>\n",
       "    <tr>\n",
       "      <th>Holden High School</th>\n",
       "      <td>83.79</td>\n",
       "      <td>83.43</td>\n",
       "      <td>85.00</td>\n",
       "      <td>82.86</td>\n",
       "    </tr>\n",
       "    <tr>\n",
       "      <th>Huang High School</th>\n",
       "      <td>77.03</td>\n",
       "      <td>75.91</td>\n",
       "      <td>76.45</td>\n",
       "      <td>77.23</td>\n",
       "    </tr>\n",
       "    <tr>\n",
       "      <th>Johnson High School</th>\n",
       "      <td>77.19</td>\n",
       "      <td>76.69</td>\n",
       "      <td>77.49</td>\n",
       "      <td>76.86</td>\n",
       "    </tr>\n",
       "    <tr>\n",
       "      <th>Pena High School</th>\n",
       "      <td>83.63</td>\n",
       "      <td>83.37</td>\n",
       "      <td>84.33</td>\n",
       "      <td>84.12</td>\n",
       "    </tr>\n",
       "    <tr>\n",
       "      <th>Rodriguez High School</th>\n",
       "      <td>76.86</td>\n",
       "      <td>76.61</td>\n",
       "      <td>76.40</td>\n",
       "      <td>77.69</td>\n",
       "    </tr>\n",
       "    <tr>\n",
       "      <th>Shelton High School</th>\n",
       "      <td>83.42</td>\n",
       "      <td>82.92</td>\n",
       "      <td>83.38</td>\n",
       "      <td>83.78</td>\n",
       "    </tr>\n",
       "    <tr>\n",
       "      <th>Thomas High School</th>\n",
       "      <td>83.59</td>\n",
       "      <td>83.09</td>\n",
       "      <td>83.50</td>\n",
       "      <td>83.50</td>\n",
       "    </tr>\n",
       "    <tr>\n",
       "      <th>Wilson High School</th>\n",
       "      <td>83.09</td>\n",
       "      <td>83.72</td>\n",
       "      <td>83.20</td>\n",
       "      <td>83.04</td>\n",
       "    </tr>\n",
       "    <tr>\n",
       "      <th>Wright High School</th>\n",
       "      <td>83.26</td>\n",
       "      <td>84.01</td>\n",
       "      <td>83.84</td>\n",
       "      <td>83.64</td>\n",
       "    </tr>\n",
       "  </tbody>\n",
       "</table>\n",
       "</div>"
      ],
      "text/plain": [
       "                         9th   10th   11th   12th\n",
       "School Name                                      \n",
       "Bailey High School     77.08  77.00  77.52  76.49\n",
       "Cabrera High School    83.09  83.15  82.77  83.28\n",
       "Figueroa High School   76.40  76.54  76.88  77.15\n",
       "Ford High School       77.36  77.67  76.92  76.18\n",
       "Griffin High School    82.04  84.23  83.84  83.36\n",
       "Hernandez High School  77.44  77.34  77.14  77.19\n",
       "Holden High School     83.79  83.43  85.00  82.86\n",
       "Huang High School      77.03  75.91  76.45  77.23\n",
       "Johnson High School    77.19  76.69  77.49  76.86\n",
       "Pena High School       83.63  83.37  84.33  84.12\n",
       "Rodriguez High School  76.86  76.61  76.40  77.69\n",
       "Shelton High School    83.42  82.92  83.38  83.78\n",
       "Thomas High School     83.59  83.09  83.50  83.50\n",
       "Wilson High School     83.09  83.72  83.20  83.04\n",
       "Wright High School     83.26  84.01  83.84  83.64"
      ]
     },
     "execution_count": 33,
     "metadata": {},
     "output_type": "execute_result"
    }
   ],
   "source": [
    "mathscores"
   ]
  },
  {
   "cell_type": "markdown",
   "metadata": {},
   "source": [
    "## 6) Reading Score by Grade "
   ]
  },
  {
   "cell_type": "markdown",
   "metadata": {},
   "source": [
    "* Perform the same operations as above for reading scores"
   ]
  },
  {
   "cell_type": "code",
   "execution_count": 34,
   "metadata": {},
   "outputs": [],
   "source": [
    "ReadingScoresByGrade9th = school_data_complete.loc[school_data_complete['grade'] == '9th', ['school_name','reading_score']]\n",
    "ReadingScoresByGrade9thMean = ReadingScoresByGrade9th.groupby('school_name')['reading_score'].mean()\n",
    "\n",
    "ReadingScoresByGrade10th = school_data_complete.loc[school_data_complete['grade'] == '10th', ['school_name','reading_score']]\n",
    "ReadingScoresByGrade10thMean = ReadingScoresByGrade10th.groupby('school_name')['reading_score'].mean()\n",
    "\n",
    "ReadingScoresByGrade11th = school_data_complete.loc[school_data_complete['grade'] == '11th', ['school_name','reading_score']]\n",
    "ReadingScoresByGrade11thMean = ReadingScoresByGrade11th.groupby('school_name')['reading_score'].mean()\n",
    "\n",
    "ReadingScoresByGrade12th = school_data_complete.loc[school_data_complete['grade'] == '12th', ['school_name','reading_score']]\n",
    "ReadingScoresByGrade12thMean = ReadingScoresByGrade12th.groupby('school_name')['reading_score'].mean()\n",
    "\n",
    "readingscores = pd.DataFrame({\"9th\":ReadingScoresByGrade9thMean,\n",
    "                           \"10th\":ReadingScoresByGrade10thMean,\n",
    "                           \"11th\":ReadingScoresByGrade11thMean,\n",
    "                          \"12th\":ReadingScoresByGrade12thMean\n",
    "                          })"
   ]
  },
  {
   "cell_type": "code",
   "execution_count": 35,
   "metadata": {},
   "outputs": [],
   "source": [
    "readingscores['9th'] = readingscores['9th'].map(\"{:,.2f}\".format)\n",
    "readingscores['10th'] = readingscores['10th'].map(\"{:,.2f}\".format)\n",
    "readingscores['11th'] = readingscores['11th'].map(\"{:,.2f}\".format)\n",
    "readingscores['12th'] = readingscores['12th'].map(\"{:,.2f}\".format)\n",
    "readingscores = readingscores.rename_axis('School Name')"
   ]
  },
  {
   "cell_type": "markdown",
   "metadata": {},
   "source": [
    "### @@ Reading Scores by Grade - Results:"
   ]
  },
  {
   "cell_type": "code",
   "execution_count": 36,
   "metadata": {},
   "outputs": [
    {
     "data": {
      "text/html": [
       "<div>\n",
       "<style scoped>\n",
       "    .dataframe tbody tr th:only-of-type {\n",
       "        vertical-align: middle;\n",
       "    }\n",
       "\n",
       "    .dataframe tbody tr th {\n",
       "        vertical-align: top;\n",
       "    }\n",
       "\n",
       "    .dataframe thead th {\n",
       "        text-align: right;\n",
       "    }\n",
       "</style>\n",
       "<table border=\"1\" class=\"dataframe\">\n",
       "  <thead>\n",
       "    <tr style=\"text-align: right;\">\n",
       "      <th></th>\n",
       "      <th>9th</th>\n",
       "      <th>10th</th>\n",
       "      <th>11th</th>\n",
       "      <th>12th</th>\n",
       "    </tr>\n",
       "    <tr>\n",
       "      <th>School Name</th>\n",
       "      <th></th>\n",
       "      <th></th>\n",
       "      <th></th>\n",
       "      <th></th>\n",
       "    </tr>\n",
       "  </thead>\n",
       "  <tbody>\n",
       "    <tr>\n",
       "      <th>Bailey High School</th>\n",
       "      <td>81.30</td>\n",
       "      <td>80.91</td>\n",
       "      <td>80.95</td>\n",
       "      <td>80.91</td>\n",
       "    </tr>\n",
       "    <tr>\n",
       "      <th>Cabrera High School</th>\n",
       "      <td>83.68</td>\n",
       "      <td>84.25</td>\n",
       "      <td>83.79</td>\n",
       "      <td>84.29</td>\n",
       "    </tr>\n",
       "    <tr>\n",
       "      <th>Figueroa High School</th>\n",
       "      <td>81.20</td>\n",
       "      <td>81.41</td>\n",
       "      <td>80.64</td>\n",
       "      <td>81.38</td>\n",
       "    </tr>\n",
       "    <tr>\n",
       "      <th>Ford High School</th>\n",
       "      <td>80.63</td>\n",
       "      <td>81.26</td>\n",
       "      <td>80.40</td>\n",
       "      <td>80.66</td>\n",
       "    </tr>\n",
       "    <tr>\n",
       "      <th>Griffin High School</th>\n",
       "      <td>83.37</td>\n",
       "      <td>83.71</td>\n",
       "      <td>84.29</td>\n",
       "      <td>84.01</td>\n",
       "    </tr>\n",
       "    <tr>\n",
       "      <th>Hernandez High School</th>\n",
       "      <td>80.87</td>\n",
       "      <td>80.66</td>\n",
       "      <td>81.40</td>\n",
       "      <td>80.86</td>\n",
       "    </tr>\n",
       "    <tr>\n",
       "      <th>Holden High School</th>\n",
       "      <td>83.68</td>\n",
       "      <td>83.32</td>\n",
       "      <td>83.82</td>\n",
       "      <td>84.70</td>\n",
       "    </tr>\n",
       "    <tr>\n",
       "      <th>Huang High School</th>\n",
       "      <td>81.29</td>\n",
       "      <td>81.51</td>\n",
       "      <td>81.42</td>\n",
       "      <td>80.31</td>\n",
       "    </tr>\n",
       "    <tr>\n",
       "      <th>Johnson High School</th>\n",
       "      <td>81.26</td>\n",
       "      <td>80.77</td>\n",
       "      <td>80.62</td>\n",
       "      <td>81.23</td>\n",
       "    </tr>\n",
       "    <tr>\n",
       "      <th>Pena High School</th>\n",
       "      <td>83.81</td>\n",
       "      <td>83.61</td>\n",
       "      <td>84.34</td>\n",
       "      <td>84.59</td>\n",
       "    </tr>\n",
       "    <tr>\n",
       "      <th>Rodriguez High School</th>\n",
       "      <td>80.99</td>\n",
       "      <td>80.63</td>\n",
       "      <td>80.86</td>\n",
       "      <td>80.38</td>\n",
       "    </tr>\n",
       "    <tr>\n",
       "      <th>Shelton High School</th>\n",
       "      <td>84.12</td>\n",
       "      <td>83.44</td>\n",
       "      <td>84.37</td>\n",
       "      <td>82.78</td>\n",
       "    </tr>\n",
       "    <tr>\n",
       "      <th>Thomas High School</th>\n",
       "      <td>83.73</td>\n",
       "      <td>84.25</td>\n",
       "      <td>83.59</td>\n",
       "      <td>83.83</td>\n",
       "    </tr>\n",
       "    <tr>\n",
       "      <th>Wilson High School</th>\n",
       "      <td>83.94</td>\n",
       "      <td>84.02</td>\n",
       "      <td>83.76</td>\n",
       "      <td>84.32</td>\n",
       "    </tr>\n",
       "    <tr>\n",
       "      <th>Wright High School</th>\n",
       "      <td>83.83</td>\n",
       "      <td>83.81</td>\n",
       "      <td>84.16</td>\n",
       "      <td>84.07</td>\n",
       "    </tr>\n",
       "  </tbody>\n",
       "</table>\n",
       "</div>"
      ],
      "text/plain": [
       "                         9th   10th   11th   12th\n",
       "School Name                                      \n",
       "Bailey High School     81.30  80.91  80.95  80.91\n",
       "Cabrera High School    83.68  84.25  83.79  84.29\n",
       "Figueroa High School   81.20  81.41  80.64  81.38\n",
       "Ford High School       80.63  81.26  80.40  80.66\n",
       "Griffin High School    83.37  83.71  84.29  84.01\n",
       "Hernandez High School  80.87  80.66  81.40  80.86\n",
       "Holden High School     83.68  83.32  83.82  84.70\n",
       "Huang High School      81.29  81.51  81.42  80.31\n",
       "Johnson High School    81.26  80.77  80.62  81.23\n",
       "Pena High School       83.81  83.61  84.34  84.59\n",
       "Rodriguez High School  80.99  80.63  80.86  80.38\n",
       "Shelton High School    84.12  83.44  84.37  82.78\n",
       "Thomas High School     83.73  84.25  83.59  83.83\n",
       "Wilson High School     83.94  84.02  83.76  84.32\n",
       "Wright High School     83.83  83.81  84.16  84.07"
      ]
     },
     "execution_count": 36,
     "metadata": {},
     "output_type": "execute_result"
    }
   ],
   "source": [
    "readingscores"
   ]
  },
  {
   "cell_type": "markdown",
   "metadata": {},
   "source": [
    "## 7) Scores by School Spending"
   ]
  },
  {
   "cell_type": "markdown",
   "metadata": {},
   "source": [
    "* Create a table that breaks down school performances based on average Spending Ranges (Per Student). Use 4 reasonable bins to group school spending. Include in the table each of the following:\n",
    "  * Average Math Score\n",
    "  * Average Reading Score\n",
    "  * % Passing Math\n",
    "  * % Passing Reading\n",
    "  * Overall Passing Rate (Average of the above two)"
   ]
  },
  {
   "cell_type": "code",
   "execution_count": 37,
   "metadata": {},
   "outputs": [],
   "source": [
    "# Based on the sample, felt like the bins/labels proposed made sense to keep for this analysis.\n",
    "spending_bins = [0, 585, 620, 645, 675]\n",
    "group_names = [\"<$585\", \"$585-615\", \"$615-645\", \"$645-675\"]"
   ]
  },
  {
   "cell_type": "code",
   "execution_count": 38,
   "metadata": {},
   "outputs": [
    {
     "data": {
      "text/plain": [
       "Index(['school_name', 'Type', 'Total Students', 'Budget', 'Per Student Budget',\n",
       "       'Average Reading Score', 'Average Math Score', '% Passing Reading',\n",
       "       '% Passing Math', '% Overall Passing Rate'],\n",
       "      dtype='object')"
      ]
     },
     "execution_count": 38,
     "metadata": {},
     "output_type": "execute_result"
    }
   ],
   "source": [
    "ScoreBySchoolSpending = df_temp\n",
    "ScoreBySchoolSpending.columns"
   ]
  },
  {
   "cell_type": "code",
   "execution_count": 39,
   "metadata": {},
   "outputs": [],
   "source": [
    "ScoreBySchoolSpending[\"Spending ranges\"] = pd.cut(ScoreBySchoolSpending[\"Per Student Budget\"],\\\n",
    "                                                  spending_bins,labels=group_names)\n",
    "ScoreBySchoolSpending = ScoreBySchoolSpending.drop(['Type', 'Total Students','Budget','Per Student Budget'],axis=1)"
   ]
  },
  {
   "cell_type": "code",
   "execution_count": 40,
   "metadata": {},
   "outputs": [],
   "source": [
    "ScoreBySchoolSpending = ScoreBySchoolSpending.groupby('Spending ranges').mean()"
   ]
  },
  {
   "cell_type": "markdown",
   "metadata": {},
   "source": [
    "### @@Scores by School Spending - Results:"
   ]
  },
  {
   "cell_type": "code",
   "execution_count": 41,
   "metadata": {},
   "outputs": [
    {
     "data": {
      "text/html": [
       "<div>\n",
       "<style scoped>\n",
       "    .dataframe tbody tr th:only-of-type {\n",
       "        vertical-align: middle;\n",
       "    }\n",
       "\n",
       "    .dataframe tbody tr th {\n",
       "        vertical-align: top;\n",
       "    }\n",
       "\n",
       "    .dataframe thead th {\n",
       "        text-align: right;\n",
       "    }\n",
       "</style>\n",
       "<table border=\"1\" class=\"dataframe\">\n",
       "  <thead>\n",
       "    <tr style=\"text-align: right;\">\n",
       "      <th></th>\n",
       "      <th>Average Reading Score</th>\n",
       "      <th>Average Math Score</th>\n",
       "      <th>% Passing Reading</th>\n",
       "      <th>% Passing Math</th>\n",
       "      <th>% Overall Passing Rate</th>\n",
       "    </tr>\n",
       "    <tr>\n",
       "      <th>Spending ranges</th>\n",
       "      <th></th>\n",
       "      <th></th>\n",
       "      <th></th>\n",
       "      <th></th>\n",
       "      <th></th>\n",
       "    </tr>\n",
       "  </thead>\n",
       "  <tbody>\n",
       "    <tr>\n",
       "      <th>&lt;$585</th>\n",
       "      <td>83.93</td>\n",
       "      <td>83.46</td>\n",
       "      <td>96.61%</td>\n",
       "      <td>93.46%</td>\n",
       "      <td>95.04%</td>\n",
       "    </tr>\n",
       "    <tr>\n",
       "      <th>$585-615</th>\n",
       "      <td>83.89</td>\n",
       "      <td>83.60</td>\n",
       "      <td>95.90%</td>\n",
       "      <td>94.23%</td>\n",
       "      <td>95.07%</td>\n",
       "    </tr>\n",
       "    <tr>\n",
       "      <th>$615-645</th>\n",
       "      <td>81.89</td>\n",
       "      <td>79.08</td>\n",
       "      <td>86.11%</td>\n",
       "      <td>75.67%</td>\n",
       "      <td>80.89%</td>\n",
       "    </tr>\n",
       "    <tr>\n",
       "      <th>$645-675</th>\n",
       "      <td>81.03</td>\n",
       "      <td>77.00</td>\n",
       "      <td>81.13%</td>\n",
       "      <td>66.16%</td>\n",
       "      <td>73.65%</td>\n",
       "    </tr>\n",
       "  </tbody>\n",
       "</table>\n",
       "</div>"
      ],
      "text/plain": [
       "                Average Reading Score Average Math Score % Passing Reading  \\\n",
       "Spending ranges                                                              \n",
       "<$585                           83.93              83.46            96.61%   \n",
       "$585-615                        83.89              83.60            95.90%   \n",
       "$615-645                        81.89              79.08            86.11%   \n",
       "$645-675                        81.03              77.00            81.13%   \n",
       "\n",
       "                % Passing Math % Overall Passing Rate  \n",
       "Spending ranges                                        \n",
       "<$585                   93.46%                 95.04%  \n",
       "$585-615                94.23%                 95.07%  \n",
       "$615-645                75.67%                 80.89%  \n",
       "$645-675                66.16%                 73.65%  "
      ]
     },
     "execution_count": 41,
     "metadata": {},
     "output_type": "execute_result"
    }
   ],
   "source": [
    "formarter(ScoreBySchoolSpending,0)"
   ]
  },
  {
   "cell_type": "markdown",
   "metadata": {},
   "source": [
    "## 8) Scores by School Size"
   ]
  },
  {
   "cell_type": "markdown",
   "metadata": {},
   "source": [
    "* Perform the same operations as above, based on school size."
   ]
  },
  {
   "cell_type": "code",
   "execution_count": 42,
   "metadata": {},
   "outputs": [],
   "source": [
    "# Felt like the bins/labels proposed made sense to keep for this analysis, just adjusted the Medium size.\n",
    "size_bins = [0, 1000, 3000, 5000]\n",
    "group_names2 = [\"Small (<1000)\", \"Medium (1000-3000)\", \"Large (3000-5000)\"]"
   ]
  },
  {
   "cell_type": "code",
   "execution_count": 43,
   "metadata": {
    "scrolled": true
   },
   "outputs": [],
   "source": [
    "ScoreBySchoolSize = df_temp"
   ]
  },
  {
   "cell_type": "code",
   "execution_count": 44,
   "metadata": {},
   "outputs": [],
   "source": [
    "ScoreBySchoolSize[\"Size ranges\"] = pd.cut(ScoreBySchoolSize[\"Total Students\"],size_bins,labels=group_names2)\n",
    "ScoreBySchoolSize = ScoreBySchoolSize.drop(['Type', 'Total Students','Budget','Per Student Budget'],axis=1)\n",
    "ScoreBySchoolSize = ScoreBySchoolSize.groupby('Size ranges').mean()"
   ]
  },
  {
   "cell_type": "markdown",
   "metadata": {},
   "source": [
    "## @@Scores by School Size - Results:"
   ]
  },
  {
   "cell_type": "code",
   "execution_count": 45,
   "metadata": {},
   "outputs": [
    {
     "data": {
      "text/html": [
       "<div>\n",
       "<style scoped>\n",
       "    .dataframe tbody tr th:only-of-type {\n",
       "        vertical-align: middle;\n",
       "    }\n",
       "\n",
       "    .dataframe tbody tr th {\n",
       "        vertical-align: top;\n",
       "    }\n",
       "\n",
       "    .dataframe thead th {\n",
       "        text-align: right;\n",
       "    }\n",
       "</style>\n",
       "<table border=\"1\" class=\"dataframe\">\n",
       "  <thead>\n",
       "    <tr style=\"text-align: right;\">\n",
       "      <th></th>\n",
       "      <th>Average Reading Score</th>\n",
       "      <th>Average Math Score</th>\n",
       "      <th>% Passing Reading</th>\n",
       "      <th>% Passing Math</th>\n",
       "      <th>% Overall Passing Rate</th>\n",
       "    </tr>\n",
       "    <tr>\n",
       "      <th>Size ranges</th>\n",
       "      <th></th>\n",
       "      <th></th>\n",
       "      <th></th>\n",
       "      <th></th>\n",
       "      <th></th>\n",
       "    </tr>\n",
       "  </thead>\n",
       "  <tbody>\n",
       "    <tr>\n",
       "      <th>Small (&lt;1000)</th>\n",
       "      <td>83.93</td>\n",
       "      <td>83.82</td>\n",
       "      <td>96.10%</td>\n",
       "      <td>93.55%</td>\n",
       "      <td>94.82%</td>\n",
       "    </tr>\n",
       "    <tr>\n",
       "      <th>Medium (1000-3000)</th>\n",
       "      <td>82.93</td>\n",
       "      <td>81.18</td>\n",
       "      <td>91.32%</td>\n",
       "      <td>84.65%</td>\n",
       "      <td>87.98%</td>\n",
       "    </tr>\n",
       "    <tr>\n",
       "      <th>Large (3000-5000)</th>\n",
       "      <td>80.92</td>\n",
       "      <td>77.06</td>\n",
       "      <td>81.06%</td>\n",
       "      <td>66.46%</td>\n",
       "      <td>73.76%</td>\n",
       "    </tr>\n",
       "  </tbody>\n",
       "</table>\n",
       "</div>"
      ],
      "text/plain": [
       "                   Average Reading Score Average Math Score % Passing Reading  \\\n",
       "Size ranges                                                                     \n",
       "Small (<1000)                      83.93              83.82            96.10%   \n",
       "Medium (1000-3000)                 82.93              81.18            91.32%   \n",
       "Large (3000-5000)                  80.92              77.06            81.06%   \n",
       "\n",
       "                   % Passing Math % Overall Passing Rate  \n",
       "Size ranges                                               \n",
       "Small (<1000)              93.55%                 94.82%  \n",
       "Medium (1000-3000)         84.65%                 87.98%  \n",
       "Large (3000-5000)          66.46%                 73.76%  "
      ]
     },
     "execution_count": 45,
     "metadata": {},
     "output_type": "execute_result"
    }
   ],
   "source": [
    "formarter(ScoreBySchoolSize,0)"
   ]
  },
  {
   "cell_type": "markdown",
   "metadata": {},
   "source": [
    "## 9) Scores by School Type"
   ]
  },
  {
   "cell_type": "markdown",
   "metadata": {},
   "source": [
    "* Perform the same operations as above, based on school type."
   ]
  },
  {
   "cell_type": "code",
   "execution_count": 46,
   "metadata": {},
   "outputs": [],
   "source": [
    "ScoreBySchoolType = df_temp"
   ]
  },
  {
   "cell_type": "code",
   "execution_count": 47,
   "metadata": {},
   "outputs": [],
   "source": [
    "ScoreBySchoolType = ScoreBySchoolType.drop(['Total Students','Budget','Per Student Budget'],axis=1)"
   ]
  },
  {
   "cell_type": "code",
   "execution_count": 48,
   "metadata": {},
   "outputs": [],
   "source": [
    "ScoreBySchoolType = ScoreBySchoolType.groupby('Type').mean()\n",
    "ScoreBySchoolType = ScoreBySchoolType.rename_axis('School Type')"
   ]
  },
  {
   "cell_type": "markdown",
   "metadata": {},
   "source": [
    "## @@Scores by School Type - Results:"
   ]
  },
  {
   "cell_type": "code",
   "execution_count": 49,
   "metadata": {},
   "outputs": [
    {
     "data": {
      "text/html": [
       "<div>\n",
       "<style scoped>\n",
       "    .dataframe tbody tr th:only-of-type {\n",
       "        vertical-align: middle;\n",
       "    }\n",
       "\n",
       "    .dataframe tbody tr th {\n",
       "        vertical-align: top;\n",
       "    }\n",
       "\n",
       "    .dataframe thead th {\n",
       "        text-align: right;\n",
       "    }\n",
       "</style>\n",
       "<table border=\"1\" class=\"dataframe\">\n",
       "  <thead>\n",
       "    <tr style=\"text-align: right;\">\n",
       "      <th></th>\n",
       "      <th>Average Reading Score</th>\n",
       "      <th>Average Math Score</th>\n",
       "      <th>% Passing Reading</th>\n",
       "      <th>% Passing Math</th>\n",
       "      <th>% Overall Passing Rate</th>\n",
       "    </tr>\n",
       "    <tr>\n",
       "      <th>School Type</th>\n",
       "      <th></th>\n",
       "      <th></th>\n",
       "      <th></th>\n",
       "      <th></th>\n",
       "      <th></th>\n",
       "    </tr>\n",
       "  </thead>\n",
       "  <tbody>\n",
       "    <tr>\n",
       "      <th>Charter</th>\n",
       "      <td>83.90</td>\n",
       "      <td>83.47</td>\n",
       "      <td>96.59%</td>\n",
       "      <td>93.62%</td>\n",
       "      <td>95.10%</td>\n",
       "    </tr>\n",
       "    <tr>\n",
       "      <th>District</th>\n",
       "      <td>80.97</td>\n",
       "      <td>76.96</td>\n",
       "      <td>80.80%</td>\n",
       "      <td>66.55%</td>\n",
       "      <td>73.67%</td>\n",
       "    </tr>\n",
       "  </tbody>\n",
       "</table>\n",
       "</div>"
      ],
      "text/plain": [
       "            Average Reading Score Average Math Score % Passing Reading  \\\n",
       "School Type                                                              \n",
       "Charter                     83.90              83.47            96.59%   \n",
       "District                    80.97              76.96            80.80%   \n",
       "\n",
       "            % Passing Math % Overall Passing Rate  \n",
       "School Type                                        \n",
       "Charter             93.62%                 95.10%  \n",
       "District            66.55%                 73.67%  "
      ]
     },
     "execution_count": 49,
     "metadata": {},
     "output_type": "execute_result"
    }
   ],
   "source": [
    "formarter(ScoreBySchoolType,0)"
   ]
  },
  {
   "cell_type": "markdown",
   "metadata": {},
   "source": [
    "## @@ Small piece of additional analysis"
   ]
  },
  {
   "cell_type": "code",
   "execution_count": 50,
   "metadata": {},
   "outputs": [
    {
     "data": {
      "text/html": [
       "<div>\n",
       "<style scoped>\n",
       "    .dataframe tbody tr th:only-of-type {\n",
       "        vertical-align: middle;\n",
       "    }\n",
       "\n",
       "    .dataframe tbody tr th {\n",
       "        vertical-align: top;\n",
       "    }\n",
       "\n",
       "    .dataframe thead th {\n",
       "        text-align: right;\n",
       "    }\n",
       "</style>\n",
       "<table border=\"1\" class=\"dataframe\">\n",
       "  <thead>\n",
       "    <tr style=\"text-align: right;\">\n",
       "      <th></th>\n",
       "      <th></th>\n",
       "      <th>gender</th>\n",
       "      <th>math_score</th>\n",
       "      <th>reading_score</th>\n",
       "      <th>size</th>\n",
       "    </tr>\n",
       "    <tr>\n",
       "      <th>type</th>\n",
       "      <th>gender</th>\n",
       "      <th></th>\n",
       "      <th></th>\n",
       "      <th></th>\n",
       "      <th></th>\n",
       "    </tr>\n",
       "  </thead>\n",
       "  <tbody>\n",
       "    <tr>\n",
       "      <th rowspan=\"2\" valign=\"top\">Charter</th>\n",
       "      <th>F</th>\n",
       "      <td>6184</td>\n",
       "      <td>83.369502</td>\n",
       "      <td>83.813713</td>\n",
       "      <td>1715.824547</td>\n",
       "    </tr>\n",
       "    <tr>\n",
       "      <th>M</th>\n",
       "      <td>6010</td>\n",
       "      <td>83.443927</td>\n",
       "      <td>83.994509</td>\n",
       "      <td>1718.924626</td>\n",
       "    </tr>\n",
       "    <tr>\n",
       "      <th rowspan=\"2\" valign=\"top\">District</th>\n",
       "      <th>F</th>\n",
       "      <td>13551</td>\n",
       "      <td>77.062578</td>\n",
       "      <td>81.166925</td>\n",
       "      <td>4073.863774</td>\n",
       "    </tr>\n",
       "    <tr>\n",
       "      <th>M</th>\n",
       "      <td>13425</td>\n",
       "      <td>76.910764</td>\n",
       "      <td>80.756127</td>\n",
       "      <td>4052.559106</td>\n",
       "    </tr>\n",
       "  </tbody>\n",
       "</table>\n",
       "</div>"
      ],
      "text/plain": [
       "                 gender  math_score  reading_score         size\n",
       "type     gender                                                \n",
       "Charter  F         6184   83.369502      83.813713  1715.824547\n",
       "         M         6010   83.443927      83.994509  1718.924626\n",
       "District F        13551   77.062578      81.166925  4073.863774\n",
       "         M        13425   76.910764      80.756127  4052.559106"
      ]
     },
     "metadata": {},
     "output_type": "display_data"
    },
    {
     "data": {
      "text/html": [
       "<div>\n",
       "<style scoped>\n",
       "    .dataframe tbody tr th:only-of-type {\n",
       "        vertical-align: middle;\n",
       "    }\n",
       "\n",
       "    .dataframe tbody tr th {\n",
       "        vertical-align: top;\n",
       "    }\n",
       "\n",
       "    .dataframe thead th {\n",
       "        text-align: right;\n",
       "    }\n",
       "</style>\n",
       "<table border=\"1\" class=\"dataframe\">\n",
       "  <thead>\n",
       "    <tr style=\"text-align: right;\">\n",
       "      <th></th>\n",
       "      <th>gender</th>\n",
       "      <th>math_score</th>\n",
       "      <th>reading_score</th>\n",
       "      <th>size</th>\n",
       "    </tr>\n",
       "  </thead>\n",
       "  <tbody>\n",
       "    <tr>\n",
       "      <th>count</th>\n",
       "      <td>4.000000</td>\n",
       "      <td>4.000000</td>\n",
       "      <td>4.000000</td>\n",
       "      <td>4.000000</td>\n",
       "    </tr>\n",
       "    <tr>\n",
       "      <th>mean</th>\n",
       "      <td>9792.500000</td>\n",
       "      <td>80.196693</td>\n",
       "      <td>82.432818</td>\n",
       "      <td>2890.293013</td>\n",
       "    </tr>\n",
       "    <tr>\n",
       "      <th>std</th>\n",
       "      <td>4268.097039</td>\n",
       "      <td>3.707256</td>\n",
       "      <td>1.708755</td>\n",
       "      <td>1354.398057</td>\n",
       "    </tr>\n",
       "    <tr>\n",
       "      <th>min</th>\n",
       "      <td>6010.000000</td>\n",
       "      <td>76.910764</td>\n",
       "      <td>80.756127</td>\n",
       "      <td>1715.824547</td>\n",
       "    </tr>\n",
       "    <tr>\n",
       "      <th>25%</th>\n",
       "      <td>6140.500000</td>\n",
       "      <td>77.024625</td>\n",
       "      <td>81.064225</td>\n",
       "      <td>1718.149606</td>\n",
       "    </tr>\n",
       "    <tr>\n",
       "      <th>50%</th>\n",
       "      <td>9804.500000</td>\n",
       "      <td>80.216040</td>\n",
       "      <td>82.490319</td>\n",
       "      <td>2885.741866</td>\n",
       "    </tr>\n",
       "    <tr>\n",
       "      <th>75%</th>\n",
       "      <td>13456.500000</td>\n",
       "      <td>83.388108</td>\n",
       "      <td>83.858912</td>\n",
       "      <td>4057.885273</td>\n",
       "    </tr>\n",
       "    <tr>\n",
       "      <th>max</th>\n",
       "      <td>13551.000000</td>\n",
       "      <td>83.443927</td>\n",
       "      <td>83.994509</td>\n",
       "      <td>4073.863774</td>\n",
       "    </tr>\n",
       "  </tbody>\n",
       "</table>\n",
       "</div>"
      ],
      "text/plain": [
       "             gender  math_score  reading_score         size\n",
       "count      4.000000    4.000000       4.000000     4.000000\n",
       "mean    9792.500000   80.196693      82.432818  2890.293013\n",
       "std     4268.097039    3.707256       1.708755  1354.398057\n",
       "min     6010.000000   76.910764      80.756127  1715.824547\n",
       "25%     6140.500000   77.024625      81.064225  1718.149606\n",
       "50%     9804.500000   80.216040      82.490319  2885.741866\n",
       "75%    13456.500000   83.388108      83.858912  4057.885273\n",
       "max    13551.000000   83.443927      83.994509  4073.863774"
      ]
     },
     "metadata": {},
     "output_type": "display_data"
    }
   ],
   "source": [
    "#Wanted to check if there were any relevant differences based on gender.\n",
    "\n",
    "additionaltable = pd.pivot_table(school_data_complete,values =['student_name','math_score','reading_score','size'],\\\n",
    "                       index=['type', 'gender'],\\\n",
    "                       aggfunc={'math_score':np.mean,\n",
    "                                'reading_score': np.mean,\n",
    "                                'gender': len,\n",
    "                                'size': np.mean})\n",
    "\n",
    "#Noticed no relevant differences at all, instead confirmed that gender does not play a difference in this dataset.\n",
    "display (additionaltable.head(), additionaltable.describe())"
   ]
  }
 ],
 "metadata": {
  "anaconda-cloud": {},
  "kernel_info": {
   "name": "python3"
  },
  "kernelspec": {
   "display_name": "Python 3",
   "language": "python",
   "name": "python3"
  },
  "language_info": {
   "codemirror_mode": {
    "name": "ipython",
    "version": 3
   },
   "file_extension": ".py",
   "mimetype": "text/x-python",
   "name": "python",
   "nbconvert_exporter": "python",
   "pygments_lexer": "ipython3",
   "version": "3.6.7"
  },
  "nteract": {
   "version": "0.8.4"
  }
 },
 "nbformat": 4,
 "nbformat_minor": 1
}
